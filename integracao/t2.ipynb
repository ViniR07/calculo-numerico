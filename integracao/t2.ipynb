{
 "cells": [
  {
   "attachments": {},
   "cell_type": "markdown",
   "metadata": {},
   "source": [
    "# T5.2\n",
    "\n",
    "Nesta questão vamos utilizar o Método de Simpson para determinar o valor numérico da integral abaixo, com pelo menos oito casas decimais exatas.\n",
    "\n",
    "$$\n",
    "  \\int_{a}^{b} f(x) \\,dx = \\int_{-1.5}^{2.9} e^{-x^2} \\,dx\n",
    "$$\n",
    "\n",
    "Para isso, divida o intervalo de integração em $2n=2,4,6,8,\\cdots$ subintervalos de mesmo tamanho $h=\\frac{b-a}{2n}$ e, para cada uma dessas subdivisões, estime o valor numérico da integral pela fórmula\n",
    "\n",
    "$$\n",
    "S(n)=\\frac{h}{3}(y_0+4y_1+2y_2+\\cdots+2y_{2n−2}+4y_{2n−1}+y_{2n})\n",
    "$$\n",
    "\n",
    "Utilize como critério de parada o menor n para o qual os valores $S(n−1)$ e $S(n)$ coincidem nas primeiras oito casas decimais."
   ]
  },
  {
   "attachments": {},
   "cell_type": "markdown",
   "metadata": {},
   "source": [
    "## Resolução\n",
    "\n"
   ]
  },
  {
   "attachments": {},
   "cell_type": "markdown",
   "metadata": {},
   "source": [
    "Iremos utilizar o método de simpson, com a fórmula dada na questão."
   ]
  },
  {
   "cell_type": "code",
   "execution_count": 3,
   "metadata": {},
   "outputs": [
    {
     "name": "stdout",
     "output_type": "stream",
     "text": [
      "\u001b[?2004l\n",
      "\u001b[?2004h\u001b[?2004l\n",
      "\u001b[?2004h\u001b[?2004l\n",
      "\u001b[?2004h\u001b[?2004l\n",
      "\u001b[?2004h\u001b[?2004l\n",
      "\u001b[?2004h\u001b[?2004l\n",
      "\u001b[?2004h\u001b[?2004l\n",
      "Método de Simpson\n",
      "2n = 2, n = 1, r = 1.874493449514728071747527\n",
      "2n = 4, n = 2, r = 1.795238638984416823518586\n",
      "2n = 6, n = 3, r = 1.727992502804082786127537\n",
      "2n = 8, n = 4, r = 1.741876017176051227863809\n",
      "2n = 10, n = 5, r = 1.742113090684891396620060\n",
      "2n = 12, n = 6, r = 1.742259574064562777095944\n",
      "2n = 14, n = 7, r = 1.742317568202562227952512\n",
      "2n = 16, n = 8, r = 1.742344094154057998480312\n",
      "2n = 18, n = 9, r = 1.742357650944479141585930\n",
      "2n = 20, n = 10, r = 1.742365179577155531731592\n",
      "2n = 22, n = 11, r = 1.742369638604593040653867\n",
      "2n = 24, n = 12, r = 1.742372418844588821684738\n",
      "2n = 26, n = 13, r = 1.742374226703428785612005\n",
      "2n = 28, n = 14, r = 1.742375444138715812059104\n",
      "2n = 30, n = 15, r = 1.742376288633066261368754\n",
      "2n = 32, n = 16, r = 1.742376889518236104947846\n",
      "2n = 34, n = 17, r = 1.742377326609136689583579\n",
      "2n = 36, n = 18, r = 1.742377650764660002025153\n",
      "2n = 38, n = 19, r = 1.742377895311044477821838\n",
      "2n = 40, n = 20, r = 1.742378082630182012380260\n",
      "2n = 42, n = 21, r = 1.742378228085921465506658\n",
      "2n = 44, n = 22, r = 1.742378342432792104332862\n",
      "2n = 46, n = 23, r = 1.742378433332394838117807\n",
      "2n = 48, n = 24, r = 1.742378506330434673188279\n",
      "2n = 50, n = 25, r = 1.742378565499547615758047\n",
      "2n = 52, n = 26, r = 1.742378613870353420978176\n",
      "2n = 54, n = 27, r = 1.742378653725547232866688\n",
      "2n = 56, n = 28, r = 1.742378686803761844714700\n",
      "2n = 58, n = 29, r = 1.742378714442943232754146\n",
      "2n = 60, n = 30, r = 1.742378737682559020072404\n",
      "2n = 62, n = 31, r = 1.742378757337383010650456\n",
      "2n = 64, n = 32, r = 1.742378774051358103491793\n",
      "2n = 66, n = 33, r = 1.742378788337347161885305\n",
      "2n = 68, n = 34, r = 1.742378800606789512883665\n",
      "2n = 70, n = 35, r = 1.742378811191985343853617\n",
      "2n = 72, n = 36, r = 1.742378820363039704233188\n",
      "2n = 74, n = 37, r = 1.742378828340827467968666\n",
      "2n = 76, n = 38, r = 1.742378835306980455754911\n",
      "2n = 78, n = 39, r = 1.742378841411668322081141\n",
      "2n = 80, n = 40, r = 1.742378846779677248335361\n",
      "2n = 82, n = 41, r = 1.742378851515193227683653\n",
      "2n = 84, n = 42, r = 1.742378855705607909598598\n",
      "2n = 86, n = 43, r = 1.742378859424536852174015\n",
      "2n = 88, n = 44, r = 1.742378862734251798727314\n",
      "2n = 90, n = 45, r = 1.742378865687632449876787\n",
      "2n = 92, n = 46, r = 1.742378868329754970645240\n",
      "2n = 94, n = 47, r = 1.742378870699177628722509\n",
      "2n = 96, n = 48, r = 1.742378872828996838606486\n",
      "2n = 98, n = 49, r = 1.742378874747718242588235\n",
      "2n = 100, n = 50, r = 1.742378876479965921220128\n",
      "\u001b[?2004h"
     ]
    }
   ],
   "source": [
    "a = -1.5;\n",
    "b = 2.9;\n",
    "f = @(x) e^(-x^2);\n",
    "n = 50;\n",
    "showSteps = 1;\n",
    "\n",
    "[r] = simpson(a,b,f,n,showSteps);"
   ]
  },
  {
   "attachments": {},
   "cell_type": "markdown",
   "metadata": {},
   "source": [
    "2n = 72, n = 36, r = 1.742378820363039704233188\n",
    "2n = 74, n = 37, r = 1.742378828340827467968666"
   ]
  }
 ],
 "metadata": {
  "kernelspec": {
   "display_name": "Octave",
   "language": "octave",
   "name": "octave"
  },
  "language_info": {
   "file_extension": ".m",
   "help_links": [
    {
     "text": "GNU Octave",
     "url": "https://www.gnu.org/software/octave/support.html"
    },
    {
     "text": "Octave Kernel",
     "url": "https://github.com/Calysto/octave_kernel"
    },
    {
     "text": "MetaKernel Magics",
     "url": "https://metakernel.readthedocs.io/en/latest/source/README.html"
    }
   ],
   "mimetype": "text/x-octave",
   "name": "octave",
   "version": "7.2.0"
  },
  "orig_nbformat": 4
 },
 "nbformat": 4,
 "nbformat_minor": 2
}
