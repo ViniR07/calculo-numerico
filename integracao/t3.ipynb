{
 "cells": [
  {
   "attachments": {},
   "cell_type": "markdown",
   "metadata": {},
   "source": [
    "# T5.3 (Correto)\n",
    "\n",
    "Nesta questão vamos usar o método dos mínimos quadrados para aproximar a função $f(x)=e^{−x^2}$ por um polinômio\n",
    "\n",
    "$$\n",
    "p(x)=a_0+a_1 x+a_2 x^2+a_3 x^3+a_4 x^4\n",
    "$$\n",
    "\n",
    "do quarto grau no intervalo $[−1,1]$. Para isso vamos usar a família de polinômios ortogonais\n",
    "\n",
    "\n",
    "- $g_0(x)=1$\n",
    "- $g_1(x)=x$\n",
    "- $g_2(x)=x^2−\\frac{1}{3}$\n",
    "- $g_3(x)=x^3−\\frac{3}{5}x$\n",
    "- $g_4(x)=x^4−\\frac{6}{7}x^2+\\frac{3}{35}$\n",
    "\n",
    "no intervalo em questão, em que $<g_0,g_0> = 2$, $<g_1,g_1> = \\frac{2}{3}$, $<g_2,g_2> = \\frac{8}{45}$, $<g_3,g_3> = \\frac{8}{175}$ e $<g_4,g_4> = \\frac{128}{11025}$.\n",
    "Observe que será preciso calcular numericamente a integral gaussiana\n",
    "\n",
    "$$\n",
    "\\int_{-1}^{1} e^{-x^2} \\,dx\n",
    "$$\n",
    "\n",
    "Outras integrais ou serão nulas (porque o integrando é ímpar) ou podem ser reduzidas, por sucessivas integrações por partes, à integral gaussiana.\n",
    "Estime os parâmetros do polinômio calculando a integral gaussiana numericamente pelo método de Simpson, subdividindo o intervalo de integração em 98 subintervalos todos de mesmo tamanho. Digite como resultado os valores encontrados com 10 algarismos significativos."
   ]
  },
  {
   "cell_type": "code",
   "execution_count": 7,
   "metadata": {},
   "outputs": [],
   "source": [
    "g0g0 = 2;\n",
    "g1g1 = 2/3;\n",
    "g2g2 = 8/45;\n",
    "g3g3 = 8/175;\n",
    "g4g4 = 128/11025;"
   ]
  },
  {
   "attachments": {},
   "cell_type": "markdown",
   "metadata": {},
   "source": [
    "### Método totalmente numérico"
   ]
  },
  {
   "cell_type": "code",
   "execution_count": 9,
   "metadata": {},
   "outputs": [
    {
     "name": "stdout",
     "output_type": "stream",
     "text": [
      "<f,g0> = 1.493648265802112407030222, <f,g2> = -0.118938063449061506848814, <f,g4> = 0.003754853770882696922806"
     ]
    }
   ],
   "source": [
    "fg0x = @(x) e^(-x.^2);\n",
    "fg1x = @(x) e^(-x.^2) * x;\n",
    "fg2x = @(x) e^(-x.^2) * (x.^2 - 1/3);\n",
    "fg3x = @(x) e^(-x.^2) * (x.^3 - 3/5 * x);\n",
    "fg4x = @(x) e^(-x.^2) * (x.^4 - 6/7 * x.^2 + 3/35);\n",
    "a = -1;\n",
    "b = 1;\n",
    "\n",
    "fg0 = simpson(a, b, fg0x, 98);\n",
    "fg1 = simpson(a, b, fg1x, 98);\n",
    "fg2 = simpson(a, b, fg2x, 98);\n",
    "fg3 = simpson(a, b, fg3x, 98);\n",
    "fg4 = simpson(a, b, fg4x, 98);\n",
    "printf(\"<f,g0> = %.24f, <f,g2> = %.24f, <f,g4> = %.24f\", fg0, fg2, fg4);\n"
   ]
  },
  {
   "attachments": {},
   "cell_type": "markdown",
   "metadata": {},
   "source": [
    "### Método parcialmente numérico"
   ]
  },
  {
   "cell_type": "code",
   "execution_count": 10,
   "metadata": {},
   "outputs": [
    {
     "name": "stdout",
     "output_type": "stream",
     "text": [
      "<f,g0> = 1.493648265802112407030222, <f,g2> = -0.118938063537756932852574, <f,g4> = 0.003754854866347689945627"
     ]
    }
   ],
   "source": [
    "fg0x = @(x) e^(-x.^2);\n",
    "a = -1;\n",
    "b = 1;\n",
    "\n",
    "fg0 = simpson(a, b, fg0x, 98);\n",
    "\n",
    "ex2 = (-1/e) + fg0 * (1/2);\n",
    "\n",
    "fg2 = ex2 + fg0 * (-1/3);\n",
    "fg4 = ((-1/e) + ((3/2) * ex2)) - ((6/7) * ex2) + ((3/35) * fg0);\n",
    "\n",
    "printf(\"<f,g0> = %.24f, <f,g2> = %.24f, <f,g4> = %.24f\", fg0, fg2, fg4);"
   ]
  },
  {
   "attachments": {},
   "cell_type": "markdown",
   "metadata": {},
   "source": [
    "### Resultado"
   ]
  },
  {
   "cell_type": "code",
   "execution_count": 11,
   "metadata": {},
   "outputs": [
    {
     "name": "stdout",
     "output_type": "stream",
     "text": [
      "b0 = 0.746824132901056203515111, b2 = -0.669026607399882733417940, b4 = 0.323416210167838114042382"
     ]
    }
   ],
   "source": [
    "g0g0 = 2;\n",
    "g1g1 = 2/3;\n",
    "g2g2 = 8/45;\n",
    "g3g3 = 8/175;\n",
    "g4g4 = 128/11025;\n",
    "\n",
    "b0 = fg0 / g0g0;\n",
    "b2 = fg2 / g2g2;\n",
    "b4 = fg4 / g4g4;\n",
    "\n",
    "printf(\"b0 = %.24f, b2 = %.24f, b4 = %.24f\", b0, b2, b4);"
   ]
  },
  {
   "cell_type": "code",
   "execution_count": 12,
   "metadata": {},
   "outputs": [
    {
     "name": "stdout",
     "output_type": "stream",
     "text": [
      "a0 = 0.997554391477307955682363, a2 = -0.946240501829458180438337, a4 = 0.323416210167838114042382"
     ]
    }
   ],
   "source": [
    "a0 = b0 - (b2 * (1/3)) + (b4 * (3/35));\n",
    "a2 = b2 - ((6/7) * b4);\n",
    "a4 = b4;\n",
    "\n",
    "printf(\"a0 = %.24f, a2 = %.24f, a4 = %.24f\", a0, a2, a4);"
   ]
  },
  {
   "attachments": {},
   "cell_type": "markdown",
   "metadata": {},
   "source": [
    "### **Testando a precisão numérica e manual**"
   ]
  },
  {
   "cell_type": "code",
   "execution_count": 8,
   "metadata": {},
   "outputs": [
    {
     "name": "stdout",
     "output_type": "stream",
     "text": [
      "ex2_numerico = 0.378944691818309531416986, ex2_por_partes = 0.378944691729613869490834"
     ]
    }
   ],
   "source": [
    "ex2 = @(x) e^(-x.^2)*x^2;\n",
    "\n",
    "ex2_numerico = simpson(a, b, ex2, 98);\n",
    "ex2_por_partes = (-1/e) + (fg0 * (1/2));\n",
    "\n",
    "printf(\"ex2_numerico = %.24f, ex2_por_partes = %.24f\", ex2_numerico, ex2_por_partes)"
   ]
  }
 ],
 "metadata": {
  "kernelspec": {
   "display_name": "Octave",
   "language": "octave",
   "name": "octave"
  },
  "language_info": {
   "file_extension": ".m",
   "help_links": [
    {
     "text": "GNU Octave",
     "url": "https://www.gnu.org/software/octave/support.html"
    },
    {
     "text": "Octave Kernel",
     "url": "https://github.com/Calysto/octave_kernel"
    },
    {
     "text": "MetaKernel Magics",
     "url": "https://metakernel.readthedocs.io/en/latest/source/README.html"
    }
   ],
   "mimetype": "text/x-octave",
   "name": "octave",
   "version": "7.2.0"
  },
  "orig_nbformat": 4
 },
 "nbformat": 4,
 "nbformat_minor": 2
}
