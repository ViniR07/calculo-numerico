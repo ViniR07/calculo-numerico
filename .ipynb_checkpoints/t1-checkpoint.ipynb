{
 "cells": [
  {
   "cell_type": "code",
   "execution_count": 3,
   "metadata": {
    "vscode": {
     "languageId": "matlab"
    }
   },
   "outputs": [],
   "source": [
    "function [x,A,b] = gauss(A,b)\n",
    "   n = length(b);\n",
    "   for k=1:n-1\n",
    "      for i=k+1:n\n",
    "         Lik = -A(i,k)/A(k,k);\n",
    "         for j=1:n\n",
    "            A(i,j) = A(i,j) + Lik*A(k,j);\n",
    "         end\n",
    "         b(i) = b(i) + Lik*b(k);\n",
    "      end\n",
    "   end\n",
    "   x = backwardsub(A,b);\n",
    "end"
   ]
  },
  {
   "cell_type": "code",
   "execution_count": 5,
   "metadata": {
    "vscode": {
     "languageId": "matlab"
    }
   },
   "outputs": [
    {
     "name": "stdout",
     "output_type": "stream",
     "text": [
      "A =\n",
      "\n",
      "   -64    16    -4     1\n",
      "    -8     4    -2     1\n",
      "     8     4     2     1\n",
      "   125    25     5     1\n",
      "\n",
      "b =\n",
      "\n",
      "  -10\n",
      "   -3\n",
      "   -1\n",
      "   10\n",
      "\n",
      "x =\n",
      "\n",
      "   0.105820\n",
      "  -0.076720\n",
      "   0.076720\n",
      "  -1.693122\n",
      "\n",
      "A =\n",
      "\n",
      "  -64.0000   16.0000   -4.0000    1.0000\n",
      "         0    2.0000   -1.5000    0.8750\n",
      "         0         0    6.0000   -1.5000\n",
      "         0         0         0  -11.8125\n",
      "\n",
      "b =\n",
      "\n",
      "  -10.0000\n",
      "   -1.7500\n",
      "    3.0000\n",
      "   20.0000\n",
      "\n"
     ]
    }
   ],
   "source": [
    "A = [-64 16 -4 1; -8 4 -2 1; 8 4 2 1; 125 25 5 1]\n",
    "b = [-10; -3; -1; 10]\n",
    "\n",
    "[x, A, b] = gauss(A, b)"
   ]
  },
  {
   "cell_type": "code",
   "execution_count": null,
   "metadata": {},
   "outputs": [],
   "source": []
  }
 ],
 "metadata": {
  "kernelspec": {
   "display_name": "Octave",
   "language": "octave",
   "name": "octave"
  },
  "language_info": {
   "file_extension": ".m",
   "help_links": [
    {
     "text": "GNU Octave",
     "url": "https://www.gnu.org/software/octave/support.html"
    },
    {
     "text": "Octave Kernel",
     "url": "https://github.com/Calysto/octave_kernel"
    },
    {
     "text": "MetaKernel Magics",
     "url": "https://metakernel.readthedocs.io/en/latest/source/README.html"
    }
   ],
   "mimetype": "text/x-octave",
   "name": "octave",
   "version": "6.4.0"
  }
 },
 "nbformat": 4,
 "nbformat_minor": 2
}
