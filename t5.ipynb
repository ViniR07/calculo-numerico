{
 "cells": [
  {
   "cell_type": "markdown",
   "metadata": {},
   "source": [
    "# Atividade T1.5 (Incompleto)\n",
    "\n",
    "Dado o sistema linear A x=b em que\n",
    "\n",
    "$$\n",
    "A=\n",
    "\\begin{pmatrix}\n",
    "3.347 & 3.446 & -5.361\\\\\n",
    "7.749 & 8.547 & -2.165\\\\\n",
    "-0.924 & -3.801 & 7.256\n",
    "\\end{pmatrix}\\\\\n",
    "e\\\\\n",
    "b=\n",
    "\\begin{pmatrix}\n",
    "5.328\\\\\n",
    "2.098\\\\\n",
    "-3.623\n",
    "\\end{pmatrix}\n",
    "$$\n",
    "\n",
    "resolva-o pelo método da Eliminação de Gauss com condensação pivotal, utilizando aritmética de ponto flutuante e quatro algarismos significativos. Não esqueça de arredondar após cada operação aritmética. Depois de resolvê-lo, execute uma etapa de refinamento dobrando os arredondamentos para oito algarismos significativos no cálculo do resíduo"
   ]
  },
  {
   "cell_type": "code",
   "execution_count": 2,
   "metadata": {},
   "outputs": [
    {
     "name": "stdout",
     "output_type": "stream",
     "text": [
      "A =\n",
      "\n",
      "   3.3470   3.4460  -5.3610\n",
      "   7.7490   8.5470  -2.1650\n",
      "  -0.9240  -3.8010   7.2560\n",
      "\n",
      "b =\n",
      "\n",
      "   5.3280\n",
      "   2.0980\n",
      "  -3.6230\n",
      "\n",
      "x =\n",
      "\n",
      "   1.2682614\n",
      "  -1.1414063\n",
      "  -0.9357238\n",
      "\n",
      "A =\n",
      "\n",
      "   7.7490000   8.5470000  -2.1650000\n",
      "           0  -2.7818455   6.9978428\n",
      "           0           0  -5.0438902\n",
      "\n",
      "b =\n",
      "\n",
      "   2.0980000\n",
      "  -3.3728320\n",
      "   4.7196880\n",
      "\n"
     ]
    }
   ],
   "source": [
    "A = [3.347 , 3.446 , -5.361;\n",
    "7.749 , 8.547 , -2.165;\n",
    "-0.924 , -3.801 , 7.256]\n",
    "b = [5.328; 2.098; -3.623]\n",
    "\n",
    "output_precision(8)\n",
    "[x, A, b] = gaussPivotP(A, b)"
   ]
  }
 ],
 "metadata": {
  "kernelspec": {
   "display_name": "Octave",
   "language": "octave",
   "name": "octave"
  },
  "language_info": {
   "file_extension": ".m",
   "help_links": [
    {
     "text": "GNU Octave",
     "url": "https://www.gnu.org/software/octave/support.html"
    },
    {
     "text": "Octave Kernel",
     "url": "https://github.com/Calysto/octave_kernel"
    },
    {
     "text": "MetaKernel Magics",
     "url": "https://metakernel.readthedocs.io/en/latest/source/README.html"
    }
   ],
   "mimetype": "text/x-octave",
   "name": "octave",
   "version": "6.4.0"
  },
  "orig_nbformat": 4
 },
 "nbformat": 4,
 "nbformat_minor": 2
}
