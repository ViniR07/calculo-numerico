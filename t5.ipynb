{
 "cells": [
  {
   "cell_type": "markdown",
   "metadata": {},
   "source": [
    "# Atividade T1.5 (Correto)\n",
    "\n",
    "Dado o sistema linear A x=b em que\n",
    "\n",
    "$$\n",
    "A=\n",
    "\\begin{pmatrix}\n",
    "3.347 & 3.446 & -5.361\\\\\n",
    "7.749 & 8.547 & -2.165\\\\\n",
    "-0.924 & -3.801 & 7.256\n",
    "\\end{pmatrix}\\\\\n",
    "e\\\\\n",
    "b=\n",
    "\\begin{pmatrix}\n",
    "5.328\\\\\n",
    "2.098\\\\\n",
    "-3.623\n",
    "\\end{pmatrix}\n",
    "$$\n",
    "\n",
    "resolva-o pelo método da Eliminação de Gauss com condensação pivotal, utilizando aritmética de ponto flutuante e quatro algarismos significativos. Não esqueça de arredondar após cada operação aritmética. Depois de resolvê-lo, execute uma etapa de refinamento dobrando os arredondamentos para oito algarismos significativos no cálculo do resíduo"
   ]
  },
  {
   "cell_type": "code",
   "execution_count": 2,
   "metadata": {},
   "outputs": [
    {
     "name": "stdout",
     "output_type": "stream",
     "text": [
      "For information about changes from previous versions of the symbolic package, run 'news symbolic'.\n"
     ]
    }
   ],
   "source": [
    "pkg install \"https://downloads.sourceforge.net/project/octave/Octave%20Forge%20Packages/Individual%20Package%20Releases/symbolic-3.0.1.tar.gz\"\n",
    "pkg load symbolic\n",
    "setenv Python \"/usr/bin/python3\""
   ]
  },
  {
   "cell_type": "code",
   "execution_count": 4,
   "metadata": {},
   "outputs": [
    {
     "name": "stdout",
     "output_type": "stream",
     "text": [
      "d = 32\n",
      "error: 'python_ipc_popen2' undefined near line 62, column 62\n",
      "error: called from\n",
      "    python_ipc_driver at line 62 column 15\n",
      "    pycall_sympy__ at line 164 column 11\n",
      "    vpa at line 173 column 7\n",
      "error: 'python_ipc_popen2' undefined near line 62, column 62\n",
      "error: called from\n",
      "    python_ipc_driver at line 62 column 15\n",
      "    pycall_sympy__ at line 164 column 11\n",
      "    vpa at line 173 column 7\n",
      "error: 'mat_rccross_access' undefined near line 85, column 85\n",
      "error: called from\n",
      "    mat_access at line 85 column 7\n",
      "    subsref at line 69 column 11\n",
      "    pivoting at line 2 column 9\n",
      "    gaussPivotP at line 4 column 13\n"
     ]
    }
   ],
   "source": [
    "d = digits(4)\n",
    "A = vpa([3.347 , 3.446 , -5.361;\n",
    "7.749 , 8.547 , -2.165;\n",
    "-0.924 , -3.801 , 7.256]);\n",
    "b = vpa([5.328; 2.098; -3.623]);\n",
    "\n",
    "[x0, A0, b0] = gaussPivotP(A, b)\n",
    "\n"
   ]
  },
  {
   "cell_type": "code",
   "execution_count": 5,
   "metadata": {},
   "outputs": [
    {
     "name": "stdout",
     "output_type": "stream",
     "text": [
      "d = 4\n",
      "error: 'python_ipc_popen2' undefined near line 62, column 62\n",
      "error: called from\n",
      "    python_ipc_driver at line 62 column 15\n",
      "    pycall_sympy__ at line 164 column 11\n",
      "    mtimes at line 54 column 5\n",
      "error: 'Ax0' undefined near line 1, column 1\n",
      "error: 'b_Ax0' undefined near line 1, column 1\n"
     ]
    }
   ],
   "source": [
    "\n",
    "# xo calculado no escalonador de matrizes\n",
    "# x0 = [1.268261373;-1.141406267;-0.935723779]\n",
    "d = digits(8)\n",
    "Ax0 = A*x0\n",
    "b_Ax0 = b-Ax0\n",
    "\n",
    "[y, A1, b1] = gaussPivotP(A, b_Ax0)"
   ]
  },
  {
   "cell_type": "code",
   "execution_count": 13,
   "metadata": {},
   "outputs": [
    {
     "name": "stdout",
     "output_type": "stream",
     "text": [
      "x0 = (sym 3×1 matrix)\n",
      "\n",
      "  ⎡ 1.2683 ⎤\n",
      "  ⎢        ⎥\n",
      "  ⎢-1.1414 ⎥\n",
      "  ⎢        ⎥\n",
      "  ⎣-0.93573⎦\n",
      "\n",
      "y = (sym 3×1 matrix)\n",
      "\n",
      "  ⎡-4.87e-7 ⎤\n",
      "  ⎢         ⎥\n",
      "  ⎢2.0348e-6⎥\n",
      "  ⎢         ⎥\n",
      "  ⎣1.0039e-6⎦\n",
      "\n"
     ]
    }
   ],
   "source": [
    "x0\n",
    "y"
   ]
  },
  {
   "cell_type": "code",
   "execution_count": 14,
   "metadata": {},
   "outputs": [
    {
     "name": "stdout",
     "output_type": "stream",
     "text": [
      "x1 = (sym 3×1 matrix)\n",
      "\n",
      "  ⎡ 1.2683 ⎤\n",
      "  ⎢        ⎥\n",
      "  ⎢-1.1414 ⎥\n",
      "  ⎢        ⎥\n",
      "  ⎣-0.93572⎦\n",
      "\n"
     ]
    }
   ],
   "source": [
    "x1 = x0 + y"
   ]
  },
  {
   "cell_type": "markdown",
   "metadata": {},
   "source": [
    "x(0) = [1,269, -1,142, -0,9359]\n",
    "x(1) = [1,268, -1,141, -0,9357]"
   ]
  }
 ],
 "metadata": {
  "kernelspec": {
   "display_name": "Octave",
   "language": "octave",
   "name": "octave"
  },
  "language_info": {
   "file_extension": ".m",
   "help_links": [
    {
     "text": "GNU Octave",
     "url": "https://www.gnu.org/software/octave/support.html"
    },
    {
     "text": "Octave Kernel",
     "url": "https://github.com/Calysto/octave_kernel"
    },
    {
     "text": "MetaKernel Magics",
     "url": "https://metakernel.readthedocs.io/en/latest/source/README.html"
    }
   ],
   "mimetype": "text/x-octave",
   "name": "octave",
   "version": "6.4.0"
  },
  "orig_nbformat": 4
 },
 "nbformat": 4,
 "nbformat_minor": 2
}
