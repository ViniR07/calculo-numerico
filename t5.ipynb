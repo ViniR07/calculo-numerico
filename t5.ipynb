{
 "cells": [
  {
   "cell_type": "markdown",
   "metadata": {},
   "source": [
    "# Atividade T1.5 (Incompleto)\n",
    "\n",
    "Dado o sistema linear A x=b em que\n",
    "\n",
    "$$\n",
    "A=\n",
    "\\begin{pmatrix}\n",
    "3.347 & 3.446 & -5.361\\\\\n",
    "7.749 & 8.547 & -2.165\\\\\n",
    "-0.924 & -3.801 & 7.256\n",
    "\\end{pmatrix}\\\\\n",
    "e\\\\\n",
    "b=\n",
    "\\begin{pmatrix}\n",
    "5.328\\\\\n",
    "2.098\\\\\n",
    "-3.623\n",
    "\\end{pmatrix}\n",
    "$$\n",
    "\n",
    "resolva-o pelo método da Eliminação de Gauss com condensação pivotal, utilizando aritmética de ponto flutuante e quatro algarismos significativos. Não esqueça de arredondar após cada operação aritmética. Depois de resolvê-lo, execute uma etapa de refinamento dobrando os arredondamentos para oito algarismos significativos no cálculo do resíduo"
   ]
  },
  {
   "cell_type": "code",
   "execution_count": 11,
   "metadata": {},
   "outputs": [
    {
     "name": "stdout",
     "output_type": "stream",
     "text": [
      "A =\n",
      "\n",
      "   3.3470000   3.4460000  -5.3610000\n",
      "   7.7490000   8.5470000  -2.1650000\n",
      "  -0.9240000  -3.8010000   7.2560000\n",
      "\n",
      "b =\n",
      "\n",
      "   5.3280000\n",
      "   2.0980000\n",
      "  -3.6230000\n",
      "\n",
      "x0 =\n",
      "\n",
      "   1.2682614\n",
      "  -1.1414063\n",
      "  -0.9357238\n",
      "\n",
      "A0 =\n",
      "\n",
      "   7.7490000   8.5470000  -2.1650000\n",
      "           0  -2.7818455   6.9978428\n",
      "           0           0  -5.0438902\n",
      "\n",
      "b0 =\n",
      "\n",
      "   2.0980000\n",
      "  -3.3728320\n",
      "   4.7196880\n",
      "\n",
      "Ax0 =\n",
      "\n",
      "   5.3280000\n",
      "   2.0980000\n",
      "  -3.6230000\n",
      "\n",
      "b_Ax0 =\n",
      "\n",
      "   8.8817842e-16\n",
      "   8.8817842e-16\n",
      "               0\n",
      "\n",
      "y =\n",
      "\n",
      "   4.0158300e-16\n",
      "  -2.8504070e-16\n",
      "  -9.8177647e-17\n",
      "\n",
      "A1 =\n",
      "\n",
      "   7.7490000   8.5470000  -2.1650000\n",
      "           0  -2.7818455   6.9978428\n",
      "           0           0  -5.0438902\n",
      "\n",
      "b1 =\n",
      "\n",
      "   8.8817842e-16\n",
      "   1.0590745e-16\n",
      "   4.9519727e-16\n",
      "\n"
     ]
    }
   ],
   "source": [
    "A = [3.347 , 3.446 , -5.361;\n",
    "7.749 , 8.547 , -2.165;\n",
    "-0.924 , -3.801 , 7.256]\n",
    "b = [5.328; 2.098; -3.623]\n",
    "\n",
    "output_precision(8)\n",
    "[x0, A0, b0] = gaussPivotP(A, b)\n",
    "\n",
    "# xo calculado no escalonador de matrizes\n",
    "# x0 = [1.268261373;-1.141406267;-0.935723779]\n",
    "\n",
    "Ax0 = A*x0\n",
    "b_Ax0 = b-Ax0\n",
    "\n",
    "[y, A1, b1] = gaussPivotP(A, b_Ax0)\n"
   ]
  },
  {
   "cell_type": "code",
   "execution_count": 14,
   "metadata": {},
   "outputs": [
    {
     "name": "stdout",
     "output_type": "stream",
     "text": [
      "x0 =\n",
      "\n",
      "   1.2682614\n",
      "  -1.1414063\n",
      "  -0.9357238\n",
      "\n",
      "y =\n",
      "\n",
      "   4.0158300e-16\n",
      "  -2.8504070e-16\n",
      "  -9.8177647e-17\n",
      "\n"
     ]
    }
   ],
   "source": [
    "x0\n",
    "y"
   ]
  },
  {
   "cell_type": "code",
   "execution_count": 12,
   "metadata": {},
   "outputs": [
    {
     "name": "stdout",
     "output_type": "stream",
     "text": [
      "x1 =\n",
      "\n",
      "   1.2682614\n",
      "  -1.1414063\n",
      "  -0.9357238\n",
      "\n"
     ]
    }
   ],
   "source": [
    "x1 = x0 + y"
   ]
  },
  {
   "cell_type": "markdown",
   "metadata": {},
   "source": [
    "<img src='./t5-esc.png' />"
   ]
  }
 ],
 "metadata": {
  "kernelspec": {
   "display_name": "Octave",
   "language": "octave",
   "name": "octave"
  },
  "language_info": {
   "file_extension": ".m",
   "help_links": [
    {
     "text": "GNU Octave",
     "url": "https://www.gnu.org/software/octave/support.html"
    },
    {
     "text": "Octave Kernel",
     "url": "https://github.com/Calysto/octave_kernel"
    },
    {
     "text": "MetaKernel Magics",
     "url": "https://metakernel.readthedocs.io/en/latest/source/README.html"
    }
   ],
   "mimetype": "text/x-octave",
   "name": "octave",
   "version": "6.4.0"
  },
  "orig_nbformat": 4
 },
 "nbformat": 4,
 "nbformat_minor": 2
}
