{
 "cells": [
  {
   "cell_type": "markdown",
   "metadata": {},
   "source": [
    "# Atividade T2.5 (Correto)\n",
    "\n",
    "Determine os parâmetros a e b, com precisão de pelo menos 6 casas decimais, que melhor ajustam pelo método dos mínimos quadrados a função\n",
    "\n",
    "- $f(x)=a + b(x−1)^2$\n",
    "\n",
    "ao gráfico de $y=x³−3x$ no intervalo $(−0.9,1.6)$.\n",
    "\n"
   ]
  },
  {
   "cell_type": "code",
   "execution_count": 2,
   "metadata": {},
   "outputs": [
    {
     "name": "stdout",
     "output_type": "stream",
     "text": [
      "gaga = 2.500000000\n",
      "a =\n",
      "\n",
      "  -1.642849684\n",
      "   1.253639241\n",
      "\n"
     ]
    }
   ],
   "source": [
    "# funções dos parametros\n",
    "g1 = @(x) 1;\n",
    "g2 = @(x) power((x-1), 2);\n",
    "\n",
    "# função a ser aproximada\n",
    "y = @(x) (power(x, 3) -3 * x);\n",
    "\n",
    "# intervalo da função\n",
    "c = -0.9;\n",
    "d = 1.6;\n",
    "\n",
    "output_precision(10)\n",
    "[a] = funcContDoisParametros(g1, g2, y, c, d)"
   ]
  }
 ],
 "metadata": {
  "kernelspec": {
   "display_name": "Octave",
   "language": "octave",
   "name": "octave"
  },
  "language_info": {
   "file_extension": ".m",
   "help_links": [
    {
     "text": "GNU Octave",
     "url": "https://www.gnu.org/software/octave/support.html"
    },
    {
     "text": "Octave Kernel",
     "url": "https://github.com/Calysto/octave_kernel"
    },
    {
     "text": "MetaKernel Magics",
     "url": "https://metakernel.readthedocs.io/en/latest/source/README.html"
    }
   ],
   "mimetype": "text/x-octave",
   "name": "octave",
   "version": "6.4.0"
  },
  "orig_nbformat": 4
 },
 "nbformat": 4,
 "nbformat_minor": 2
}
