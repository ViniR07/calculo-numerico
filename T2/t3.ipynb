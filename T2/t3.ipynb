{
 "cells": [
  {
   "cell_type": "markdown",
   "metadata": {},
   "source": [
    "# Atividade T2.3\n",
    "\n",
    "Determine o parâmetro a, com precisão de pelo menos 6 casas decimais, que melhor ajusta pelo método dos mínimos quadrados a curva\n",
    "\n",
    "- $y=a * arctg²(x)$\n",
    "\n",
    "aos pontos tabelados.\n",
    "\n",
    "| x | 0 | 1.0 | 1.2 | 1.4 | 1.8 | 2.9 |\n",
    "| :--- | :----: | :----: | :----: | :----: | :----: | ---: |\n",
    "| y | 0.04 | -5.47 | -6.86 | -8.11 | -10.09 | -13.71 |\n"
   ]
  },
  {
   "cell_type": "code",
   "execution_count": 2,
   "metadata": {},
   "outputs": [
    {
     "name": "stdout",
     "output_type": "stream",
     "text": [
      "a = -8.932570740\n"
     ]
    }
   ],
   "source": [
    "x = [0 , 1.0 , 1.2 , 1.4 , 1.8 , 2.9];\n",
    "y = [0.04 , -5.47 , -6.86 , -8.11 , -10.09 , -13.71];\n",
    "\n",
    "gx = @(x) power(atan(x), 2);\n",
    "\n",
    "g = [gx(x(1)), gx(x(2)), gx(x(3)), gx(x(4)), gx(x(5)), gx(x(6))];\n",
    "\n",
    "output_precision(10)\n",
    "[a] = funcLinUmParametro(y, g)"
   ]
  }
 ],
 "metadata": {
  "kernelspec": {
   "display_name": "Octave",
   "language": "octave",
   "name": "octave"
  },
  "language_info": {
   "file_extension": ".m",
   "help_links": [
    {
     "text": "GNU Octave",
     "url": "https://www.gnu.org/software/octave/support.html"
    },
    {
     "text": "Octave Kernel",
     "url": "https://github.com/Calysto/octave_kernel"
    },
    {
     "text": "MetaKernel Magics",
     "url": "https://metakernel.readthedocs.io/en/latest/source/README.html"
    }
   ],
   "mimetype": "text/x-octave",
   "name": "octave",
   "version": "6.4.0"
  },
  "orig_nbformat": 4,
  "vscode": {
   "interpreter": {
    "hash": "e7370f93d1d0cde622a1f8e1c04877d8463912d04d973331ad4851f04de6915a"
   }
  }
 },
 "nbformat": 4,
 "nbformat_minor": 2
}
