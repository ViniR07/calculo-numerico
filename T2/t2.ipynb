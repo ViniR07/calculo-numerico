{
 "cells": [
  {
   "cell_type": "markdown",
   "metadata": {},
   "source": [
    "# Atividade T2.2 (Correto)\n",
    "\n",
    "Determine os parâmetros a e b, com precisão de pelo menos 6 casas decimais, que melhor ajustam pelo método dos mínimos quadrados a reta\n",
    "\n",
    "- $y=a+b x$\n",
    "\n",
    "aos pontos tabelados.\n",
    "\n",
    "| x | 1 | 2.9 | 3.5 | 4.6 | 5.0 | 6.0 |\n",
    "| :--- | :----: | :----: | :----: | :----: | :----: | ---: |\n",
    "| y | 4.005 | 21.192 | 26.56 | 36.493 | 40.001 | 49.087 |\n"
   ]
  },
  {
   "cell_type": "code",
   "execution_count": 10,
   "metadata": {},
   "outputs": [
    {
     "name": "stdout",
     "output_type": "stream",
     "text": [
      "ga =\n",
      "\n",
      "   1   1   1   1   1   1\n",
      "\n",
      "gb =\n",
      "\n",
      " Columns 1 through 5:\n",
      "\n",
      "   1.000000000   2.900000000   3.500000000   4.600000000   5.000000000\n",
      "\n",
      " Column 6:\n",
      "\n",
      "   6.000000000\n",
      "\n",
      "a =\n",
      "\n",
      "  -4.978179727\n",
      "   9.009003407\n",
      "\n"
     ]
    }
   ],
   "source": [
    "x = [1 , 2.9 , 3.5 , 4.6 , 5.0 , 6.0];\n",
    "y = [4.005 , 21.192 , 26.56 , 36.493 , 40.001 , 49.087];\n",
    "\n",
    "gxb = @(x) x;\n",
    "gxa = @(x) 1; \n",
    "\n",
    "ga = [gxa(x(1)), gxa(x(2)), gxa(x(3)), gxa(x(4)), gxa(x(5)), gxa(x(6))]\n",
    "gb = [gxb(x(1)), gxb(x(2)), gxb(x(3)), gxb(x(4)), gxb(x(5)), gxb(x(6))]\n",
    "\n",
    "output_precision(10)\n",
    "[a] = funcLinDoisParametros(y, ga, gb)"
   ]
  }
 ],
 "metadata": {
  "kernelspec": {
   "display_name": "Octave",
   "language": "octave",
   "name": "octave"
  },
  "language_info": {
   "file_extension": ".m",
   "help_links": [
    {
     "text": "GNU Octave",
     "url": "https://www.gnu.org/software/octave/support.html"
    },
    {
     "text": "Octave Kernel",
     "url": "https://github.com/Calysto/octave_kernel"
    },
    {
     "text": "MetaKernel Magics",
     "url": "https://metakernel.readthedocs.io/en/latest/source/README.html"
    }
   ],
   "mimetype": "text/x-octave",
   "name": "octave",
   "version": "6.4.0"
  },
  "orig_nbformat": 4,
  "vscode": {
   "interpreter": {
    "hash": "e7370f93d1d0cde622a1f8e1c04877d8463912d04d973331ad4851f04de6915a"
   }
  }
 },
 "nbformat": 4,
 "nbformat_minor": 2
}
