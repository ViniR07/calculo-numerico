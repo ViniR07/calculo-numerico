{
 "cells": [
  {
   "cell_type": "markdown",
   "metadata": {},
   "source": [
    "# Atividade T2.7 (Incorreto)\n",
    "\n",
    "Considere a família abaixo de polinômios ortogonais no intervalo [−1,1]\n",
    "\n",
    "- $p_0(x)=\\frac{1}{2}$\n",
    "\n",
    "- $p_1(x)=\\frac{2}{3}x$\n",
    "\n",
    "- $p_2(x)=\\frac{8}{45}(x^2−\\frac{1}{3})$\n",
    "\n",
    "- $p_3(x)=\\frac{8}{175}(x^3−\\frac{3}{5}x)$\n",
    "\n",
    "\n",
    "Encontre os coeficientes $a0, a1, a2 e a3$ (com pelo menos 6 casas decimais exatas) do polinômio de grau 3\n",
    "\n",
    "- $p(x)=a_0⋅p_0(x)+a_1⋅p_1(x)+a_2⋅p_2(x)+a_3⋅p_3(x)$\n",
    "\n",
    "que melhor se ajusta à função\n",
    "\n",
    "- $f(x)=(4.6)cos(x)+(−3.0)sen(x)$\n",
    "\n",
    "no intervalo $[−1,1]$."
   ]
  },
  {
   "cell_type": "code",
   "execution_count": 1,
   "metadata": {},
   "outputs": [
    {
     "name": "stdout",
     "output_type": "stream",
     "text": [
      "For information about changes from previous versions of the symbolic package, run 'news symbolic'.\n"
     ]
    }
   ],
   "source": [
    "pkg -forge install symbolic #only once to install\n",
    "pkg load symbolic\n",
    "setenv Python \"/usr/bin/python3\""
   ]
  },
  {
   "cell_type": "code",
   "execution_count": 11,
   "metadata": {},
   "outputs": [
    {
     "name": "stdout",
     "output_type": "stream",
     "text": [
      "d = 8\n",
      "p0p0 = (sym) 0.50000000\n",
      "p1p1 = (sym) 0.29629630\n",
      "p2p2 = (sym) 0.0056186557\n",
      "p3p3 = (sym) 9.5533528e-5\n",
      "yp0 = (sym) 3.8707665\n",
      "yp1 = (sym) -1.2046747\n",
      "yp2 = (sym) -0.067641183\n",
      "yp3 = (sym) 0.00098815061\n",
      "alpha0 = (sym) 7.7415331\n",
      "alpha1 = (sym) -4.0657772\n",
      "alpha2 = (sym) -12.038677\n",
      "alpha3 = (sym) 10.343496\n",
      "warning: passing floating-point values to sym is dangerous, see \"help sym\"\n",
      "warning: called from\n",
      "    double_to_sym_heuristic at line 50 column 7\n",
      "    sym at line 379 column 13\n",
      "    times at line 69 column 5\n",
      "    ajusteFuncPol>@<anonymous> at line 27 column 64\n",
      "    sym at line 312 column 7\n",
      "    ajusteFuncPol at line 28 column 6\n",
      "\n",
      "warning: passing floating-point values to sym is dangerous, see \"help sym\"\n",
      "warning: called from\n",
      "    double_to_sym_heuristic at line 50 column 7\n",
      "    sym at line 379 column 13\n",
      "    mtimes at line 54 column 5\n",
      "    @<anonymous> at line 1 column 15\n",
      "    ajusteFuncPol>@<anonymous> at line 27 column 64\n",
      "    sym at line 312 column 7\n",
      "    ajusteFuncPol at line 28 column 6\n",
      "\n",
      "warning: passing floating-point values to sym is dangerous, see \"help sym\"\n",
      "warning: called from\n",
      "    double_to_sym_heuristic at line 50 column 7\n",
      "    sym at line 379 column 13\n",
      "    minus at line 47 column 5\n",
      "    @<anonymous> at line 1 column 16\n",
      "    ajusteFuncPol>@<anonymous> at line 27 column 64\n",
      "    sym at line 312 column 7\n",
      "    ajusteFuncPol at line 28 column 6\n",
      "\n",
      "warning: passing floating-point values to sym is dangerous, see \"help sym\"\n",
      "warning: called from\n",
      "    double_to_sym_heuristic at line 50 column 7\n",
      "    sym at line 379 column 13\n",
      "    mtimes at line 54 column 5\n",
      "    @<anonymous> at line 1 column 16\n",
      "    ajusteFuncPol>@<anonymous> at line 27 column 64\n",
      "    sym at line 312 column 7\n",
      "    ajusteFuncPol at line 28 column 6\n",
      "\n",
      "warning: passing floating-point values to sym is dangerous, see \"help sym\"\n",
      "warning: called from\n",
      "    double_to_sym_heuristic at line 50 column 7\n",
      "    sym at line 379 column 13\n",
      "    mtimes at line 54 column 5\n",
      "    @<anonymous> at line 1 column 17\n",
      "    ajusteFuncPol>@<anonymous> at line 27 column 64\n",
      "    sym at line 312 column 7\n",
      "    ajusteFuncPol at line 28 column 6\n",
      "\n",
      "warning: passing floating-point values to sym is dangerous, see \"help sym\"\n",
      "warning: called from\n",
      "    double_to_sym_heuristic at line 50 column 7\n",
      "    sym at line 379 column 13\n",
      "    mtimes at line 54 column 5\n",
      "    @<anonymous> at line 1 column 17\n",
      "    ajusteFuncPol>@<anonymous> at line 27 column 64\n",
      "    sym at line 312 column 7\n",
      "    ajusteFuncPol at line 28 column 6\n",
      "\n",
      "a = (sym) [4.5841696  -2.9942254  -2.1402093  0.47284551]  (1×4 matrix)\n",
      "fx =\n",
      "\n",
      "@(x) alpha0 .* p0 (x) + alpha1 .* p1 (x) + alpha2 .* p2 (x) + alpha3 .* p3 (x)\n",
      "\n"
     ]
    }
   ],
   "source": [
    "\n",
    "d = digits(8)\n",
    "\n",
    "p0 = @(x) 1/2;\n",
    "p1 = @(x) 2/3 * x;\n",
    "p2 = @(x) 8/45 * (power(x, 2) - 1/3);\n",
    "p3 = @(x) 8/175 * (power(x, 3) - 3/5 * x);\n",
    "\n",
    "\n",
    "y = @(x) 4.6*cos(x) - 3.0*sin(x);\n",
    "c = -1;\n",
    "d = 1;\n",
    "\n",
    "% output_precision(10);\n",
    "[a, fx] = ajusteFuncPol(y, p0, p1, p2, p3, c, d)"
   ]
  },
  {
   "cell_type": "markdown",
   "metadata": {},
   "source": [
    "3.8707665301163, -1.204674715759, -0.067641182637587, 0.00098815061399171"
   ]
  },
  {
   "cell_type": "code",
   "execution_count": 14,
   "metadata": {},
   "outputs": [
    {
     "name": "stdout",
     "output_type": "stream",
     "text": [
      "alpha0 = -3.4694e-18\n",
      "alpha1 = 0.9035\n",
      "alpha2 = 9.7578e-17\n",
      "alpha3 = -0.1576\n",
      "warning: passing floating-point values to sym is dangerous, see \"help sym\"\n",
      "warning: called from\n",
      "    double_to_sym_heuristic at line 50 column 7\n",
      "    sym at line 379 column 13\n",
      "    times at line 69 column 5\n",
      "    ajusteFuncPol>@<anonymous> at line 27 column 64\n",
      "    sym at line 312 column 7\n",
      "    ajusteFuncPol at line 28 column 6\n",
      "\n",
      "warning: passing floating-point values to sym is dangerous, see \"help sym\"\n",
      "warning: called from\n",
      "    double_to_sym_heuristic at line 50 column 7\n",
      "    sym at line 379 column 13\n",
      "    plus at line 53 column 5\n",
      "    ajusteFuncPol>@<anonymous> at line 27 column 64\n",
      "    sym at line 312 column 7\n",
      "    ajusteFuncPol at line 28 column 6\n",
      "\n",
      "warning: passing floating-point values to sym is dangerous, see \"help sym\"\n",
      "warning: called from\n",
      "    double_to_sym_heuristic at line 50 column 7\n",
      "    sym at line 379 column 13\n",
      "    minus at line 47 column 5\n",
      "    @<anonymous> at line 1 column 24\n",
      "    ajusteFuncPol>@<anonymous> at line 27 column 64\n",
      "    sym at line 312 column 7\n",
      "    ajusteFuncPol at line 28 column 6\n",
      "\n",
      "warning: passing floating-point values to sym is dangerous, see \"help sym\"\n",
      "warning: called from\n",
      "    double_to_sym_heuristic at line 50 column 7\n",
      "    sym at line 379 column 13\n",
      "    times at line 69 column 5\n",
      "    ajusteFuncPol>@<anonymous> at line 27 column 64\n",
      "    sym at line 312 column 7\n",
      "    ajusteFuncPol at line 28 column 6\n",
      "\n",
      "warning: passing floating-point values to sym is dangerous, see \"help sym\"\n",
      "warning: called from\n",
      "    double_to_sym_heuristic at line 50 column 7\n",
      "    sym at line 379 column 13\n",
      "    mtimes at line 54 column 5\n",
      "    @<anonymous> at line 1 column 24\n",
      "    ajusteFuncPol>@<anonymous> at line 27 column 64\n",
      "    sym at line 312 column 7\n",
      "    ajusteFuncPol at line 28 column 6\n",
      "\n",
      "warning: passing floating-point values to sym is dangerous, see \"help sym\"\n",
      "warning: called from\n",
      "    double_to_sym_heuristic at line 50 column 7\n",
      "    sym at line 379 column 13\n",
      "    times at line 69 column 5\n",
      "    ajusteFuncPol>@<anonymous> at line 27 column 64\n",
      "    sym at line 312 column 7\n",
      "    ajusteFuncPol at line 28 column 6\n",
      "\n",
      "a = (sym 1×4 matrix)\n",
      "\n",
      "  ⎡       -159487474803947165          309⋅π   2912                       -103⋅π\n",
      "  ⎢──────────────────────────────────  ───── + ────  1/10248191152060862  ──────\n",
      "  ⎣4430759985949719572502951852244992  10265   3223                         2053\n",
      "  \n",
      "   ⎤\n",
      "  ─⎥\n",
      "   ⎦\n",
      "\n"
     ]
    }
   ],
   "source": [
    "# EXEMPLO DO Professor\n",
    "\n",
    "p0 = @(x) 1;\n",
    "p1 = @(x) x;\n",
    "p2 = @(x) (power(x, 2) - 1/3);\n",
    "p3 = @(x) (power(x, 3) - 3/5 * x);\n",
    "\n",
    "\n",
    "y = @(x) sin(x);\n",
    "c = -1;\n",
    "d = 1;\n",
    "\n",
    "[a, fx] = ajusteFuncPol(y, p0, p1, p2, p3, c, d);\n",
    "a"
   ]
  },
  {
   "cell_type": "markdown",
   "metadata": {},
   "source": [
    "309*pi / 10265 + (2912 / 3223) = 0,9981\n",
    "-(103*pi) / 2053 = -0,158"
   ]
  },
  {
   "cell_type": "markdown",
   "metadata": {},
   "source": [
    "<img src=\"./resp-prof.png\" />"
   ]
  }
 ],
 "metadata": {
  "kernelspec": {
   "display_name": "Octave",
   "language": "octave",
   "name": "octave"
  },
  "language_info": {
   "file_extension": ".m",
   "help_links": [
    {
     "text": "GNU Octave",
     "url": "https://www.gnu.org/software/octave/support.html"
    },
    {
     "text": "Octave Kernel",
     "url": "https://github.com/Calysto/octave_kernel"
    },
    {
     "text": "MetaKernel Magics",
     "url": "https://metakernel.readthedocs.io/en/latest/source/README.html"
    }
   ],
   "mimetype": "text/x-octave",
   "name": "octave",
   "version": "6.4.0"
  },
  "orig_nbformat": 4
 },
 "nbformat": 4,
 "nbformat_minor": 2
}
