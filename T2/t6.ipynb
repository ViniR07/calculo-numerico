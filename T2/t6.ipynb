{
 "cells": [
  {
   "attachments": {},
   "cell_type": "markdown",
   "metadata": {},
   "source": [
    "# Atividade T2.6 (incorreto)\n",
    "\n",
    "Considere $x_1=0$, $x_2=0.2$, $x_3=0.4$, $x_4=0.6$ e o produto escalar\n",
    "\n",
    "$$⟨ f , g ⟩= \\sum\\limits_{i=1}^{4}f(x_i)g(x_i)$$\n",
    "\n",
    "Encontre os coeficientes a e b (com pelo menos 6 casas decimais exatas) do polinômio\n",
    "\n",
    "- $p2(x)=x²+ax+b$\n",
    "\n",
    "que é simultaneamente ortogonal a\n",
    "\n",
    "- $p1(x)=x$\n",
    "\n",
    "e a\n",
    "\n",
    "- $p0(x)=1$\n",
    "\n",
    "segundo o produto interno em questão."
   ]
  },
  {
   "cell_type": "code",
   "execution_count": 2,
   "metadata": {},
   "outputs": [
    {
     "name": "stdout",
     "output_type": "stream",
     "text": [
      "For information about changes from previous versions of the symbolic package, run 'news symbolic'.\n"
     ]
    }
   ],
   "source": [
    "% pkg install \"https://downloads.sourceforge.net/project/octave/Octave%20Forge%20Packages/Individual%20Package%20Releases/symbolic-3.0.1.tar.gz\"\n",
    "% pkg load symbolic\n",
    "\n",
    "pkg -forge install symbolic #only once to install\n",
    "pkg load symbolic"
   ]
  },
  {
   "cell_type": "code",
   "execution_count": 16,
   "metadata": {},
   "outputs": [
    {
     "name": "stdout",
     "output_type": "stream",
     "text": [
      "alpha2 = 0.6000\n",
      "beta2 = 0.3600\n",
      "warning: passing floating-point values to sym is dangerous, see \"help sym\"\n",
      "warning: called from\n",
      "    double_to_sym_heuristic at line 50 column 7\n",
      "    sym at line 379 column 13\n",
      "    minus at line 47 column 5\n",
      "    polinomiosSimultOrtg>@<anonymous> at line 26 column 35\n",
      "    sym at line 312 column 7\n",
      "    polinomiosSimultOrtg at line 27 column 7\n",
      "\n",
      "warning: passing floating-point values to sym is dangerous, see \"help sym\"\n",
      "warning: called from\n",
      "    double_to_sym_heuristic at line 50 column 7\n",
      "    sym at line 379 column 13\n",
      "    minus at line 47 column 5\n",
      "    polinomiosSimultOrtg>@<anonymous> at line 26 column 35\n",
      "    sym at line 312 column 7\n",
      "    polinomiosSimultOrtg at line 27 column 7\n",
      "\n",
      "p_2(1) = 0.04\n",
      "ans = (sym) 1/25\n",
      "a = (sym) [-9/25  -3/5  1]  (1×3 matrix)\n",
      "p2 = (sym) x⋅(x - 3/5) - 9/25\n"
     ]
    }
   ],
   "source": [
    "x = [0, 0.2, 0.4, 0.6];\n",
    "\n",
    "p1 = @(x) x;\n",
    "p0 = @(x) 1;\n",
    "\n",
    "[a, p2] = polinomiosSimultOrtg(p0, p1, x)"
   ]
  },
  {
   "cell_type": "markdown",
   "metadata": {},
   "source": [
    " -0.675 -0.625"
   ]
  },
  {
   "cell_type": "markdown",
   "metadata": {},
   "source": [
    "\n",
    "<img src=\"./resp-prof1.png\" />"
   ]
  },
  {
   "cell_type": "code",
   "execution_count": 7,
   "metadata": {},
   "outputs": [
    {
     "name": "stdout",
     "output_type": "stream",
     "text": [
      "alpha2 = 0.5000\n",
      "beta2 = 0.083333\n",
      "warning: passing floating-point values to sym is dangerous, see \"help sym\"\n",
      "warning: called from\n",
      "    double_to_sym_heuristic at line 50 column 7\n",
      "    sym at line 379 column 13\n",
      "    minus at line 47 column 5\n",
      "    polinomiosSimultOrtg>@<anonymous> at line 26 column 35\n",
      "    sym at line 312 column 7\n",
      "    polinomiosSimultOrtg at line 27 column 7\n",
      "\n",
      "warning: passing floating-point values to sym is dangerous, see \"help sym\"\n",
      "warning: called from\n",
      "    double_to_sym_heuristic at line 50 column 7\n",
      "    sym at line 379 column 13\n",
      "    minus at line 47 column 5\n",
      "    @<anonymous> at line 1 column 14\n",
      "    polinomiosSimultOrtg>@<anonymous> at line 26 column 35\n",
      "    sym at line 312 column 7\n",
      "    polinomiosSimultOrtg at line 27 column 7\n",
      "\n",
      "warning: passing floating-point values to sym is dangerous, see \"help sym\"\n",
      "warning: called from\n",
      "    double_to_sym_heuristic at line 50 column 7\n",
      "    sym at line 379 column 13\n",
      "    minus at line 47 column 5\n",
      "    polinomiosSimultOrtg>@<anonymous> at line 26 column 35\n",
      "    sym at line 312 column 7\n",
      "    polinomiosSimultOrtg at line 27 column 7\n",
      "\n",
      "ans = 0.1667\n",
      "ans = (sym)\n",
      "\n",
      "           2   1 \n",
      "  (x - 1/2)  - ──\n",
      "               12\n",
      "\n"
     ]
    }
   ],
   "source": [
    "# EXEMPLO DO PROFESSOR\n",
    "x = [0, 0.2, 0.6, 1.4]; # Não estamos usando x_is\n",
    "\n",
    "p0 = @(x) 1;\n",
    "p1 = @(x) (x - 1/2);\n",
    "\n",
    "% f = sym(\"10*x^10 + 5*x^5 + 2*x^2\")\n",
    "% coeffs(f)\n",
    "\n",
    "[a, p2] = polinomiosSimultOrtg(p0, p1, x);"
   ]
  },
  {
   "cell_type": "markdown",
   "metadata": {},
   "source": [
    "p2(x) = x² - x + 1/6. Correto!\n"
   ]
  }
 ],
 "metadata": {
  "kernelspec": {
   "display_name": "Octave",
   "language": "octave",
   "name": "octave"
  },
  "language_info": {
   "file_extension": ".m",
   "help_links": [
    {
     "text": "GNU Octave",
     "url": "https://www.gnu.org/software/octave/support.html"
    },
    {
     "text": "Octave Kernel",
     "url": "https://github.com/Calysto/octave_kernel"
    },
    {
     "text": "MetaKernel Magics",
     "url": "https://metakernel.readthedocs.io/en/latest/source/README.html"
    }
   ],
   "mimetype": "text/x-octave",
   "name": "octave",
   "version": "6.4.0"
  },
  "orig_nbformat": 4
 },
 "nbformat": 4,
 "nbformat_minor": 2
}
