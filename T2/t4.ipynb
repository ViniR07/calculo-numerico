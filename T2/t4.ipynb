{
 "cells": [
  {
   "cell_type": "markdown",
   "metadata": {},
   "source": [
    "# Atividade T2.4 (Correto)\n",
    "\n",
    "Determine os parâmetros a e b, com precisão de pelo menos 6 casas decimais, que melhor ajustam pelo método dos mínimos quadrados a reta\n",
    "\n",
    "- $y=a * cos(x)+b * \\sqrt{x}$\n",
    "\n",
    "aos pontos tabelados.\n",
    "\n",
    "| x | 0.1 | 0.16 | 0.26 | 0.3 | 0.48 | 0.54 |\n",
    "| :--- | :----: | :----: | :----: | :----: | :----: | ---: |\n",
    "| y | -0.08 | 0.7 | 1.73 | 2.12 | 3.6 | 4.05 |"
   ]
  },
  {
   "cell_type": "code",
   "execution_count": 2,
   "metadata": {},
   "outputs": [
    {
     "name": "stdout",
     "output_type": "stream",
     "text": [
      "a =\n",
      "\n",
      "  -2.906514110\n",
      "   8.913980501\n",
      "\n"
     ]
    }
   ],
   "source": [
    "x = [0.1 , 0.16 , 0.26 , 0.3 , 0.48 , 0.54];\n",
    "y = [-0.08 , 0.7 , 1.73 , 2.12 , 3.6 , 4.05];\n",
    "\n",
    "gxa = @(x) cos(x);\n",
    "gxb = @(x) sqrt(x); \n",
    "\n",
    "ga = [gxa(x(1)), gxa(x(2)), gxa(x(3)), gxa(x(4)), gxa(x(5)), gxa(x(6))];\n",
    "gb = [gxb(x(1)), gxb(x(2)), gxb(x(3)), gxb(x(4)), gxb(x(5)), gxb(x(6))];\n",
    "\n",
    "output_precision(10)\n",
    "[a] = funcLinDoisParametros(y, ga, gb)"
   ]
  }
 ],
 "metadata": {
  "kernelspec": {
   "display_name": "Octave",
   "language": "octave",
   "name": "octave"
  },
  "language_info": {
   "file_extension": ".m",
   "help_links": [
    {
     "text": "GNU Octave",
     "url": "https://www.gnu.org/software/octave/support.html"
    },
    {
     "text": "Octave Kernel",
     "url": "https://github.com/Calysto/octave_kernel"
    },
    {
     "text": "MetaKernel Magics",
     "url": "https://metakernel.readthedocs.io/en/latest/source/README.html"
    }
   ],
   "mimetype": "text/x-octave",
   "name": "octave",
   "version": "6.4.0"
  },
  "orig_nbformat": 4
 },
 "nbformat": 4,
 "nbformat_minor": 2
}
