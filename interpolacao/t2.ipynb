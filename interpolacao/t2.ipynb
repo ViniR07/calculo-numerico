{
 "cells": [
  {
   "attachments": {},
   "cell_type": "markdown",
   "metadata": {},
   "source": [
    "# T4.2 (Correto)\n",
    "\n",
    "Considere o problema de interpolar os pontos abaixo pelo método de Lagrange:\n",
    "\n",
    "- $(t_0,z_0)=(−6,10)$\n",
    "- $(t_1,z_1)=(−5,8)$\n",
    "- $(t_2,z_2)=(5,−2)$\n",
    "- $(t_3,z_3)=(7,−1)$\n",
    "\n",
    "Encontre os polinômios $L_0(t)$, $L_1(t)$, $L_2(t)$, $L_3(t)$, e o polinômio interpolador $L(t)$. Digite como resposta frações irredutíveis em que os denominadores são inteiros positivos.\n",
    "\n",
    "- $L_0(t)=a_0+b_0t+c_0t^2+d_0t^3$\n",
    "\n",
    "- $L_1(t)=a_1+b_1t+c_1t^2+d_1t^3$\n",
    "\n",
    "- $L_2(t)=a_2+b_2t+c_2t^2+d_2t^3$\n",
    "\n",
    "- $L_3(t)=a_3+b_3t+c_3t^2+d_3t^3$\n",
    "\n",
    "- $L(t)=a+b t+c t^2+d t^3$\n",
    "\n",
    "\n"
   ]
  },
  {
   "attachments": {},
   "cell_type": "markdown",
   "metadata": {},
   "source": [
    "### Resposta\n",
    "\n",
    "Para entendermos Lagrange, faremos:\n",
    "\n",
    "$q(t)=(t−t_0)(t−t_1)\\cdots(t−t_k)$\n",
    "\n",
    "e, para cada $i=0,1,…,k$, considere $q_i(t)$ obtido de $q(t)$ pela supressão do fator $(t−t_i)$. Considere também os polinômios de Lagrange\n",
    "\n",
    "$$\n",
    "L_i(t)=q_i(t)q_i(t_i)\n",
    "$$\n",
    "\n",
    "Observe que cada $L_i$ é um polinômio de grau $k$ que assume valor 1 em $t_i$ e se anula nos outros $t_{j′s}.\n",
    "\n",
    "Assim, a soma\n",
    "\n",
    "$$\n",
    "L(t)=c_0L_0(t)+c_1L_1(t)+\\cdots+c_kL_k(t)\n",
    "$$\n",
    "\n",
    "é um polinômio de grau $k$ que interpola os pontos $(t0,c0),(t1,c1),\\cdots,(tk,ck)$, pois $L(t)$ assume valor $c_0$ em $t_0$, $c_1$ em $t_1$, e assim por diante, até assumir o valor $c_k$ em $t_k$."
   ]
  },
  {
   "attachments": {},
   "cell_type": "markdown",
   "metadata": {},
   "source": [
    "Assim, temos:"
   ]
  },
  {
   "cell_type": "code",
   "execution_count": 10,
   "metadata": {},
   "outputs": [
    {
     "name": "stdout",
     "output_type": "stream",
     "text": [
      "\u001b[?2004l\n",
      "t =\n",
      "\n",
      "  -6  -5   5   7\n",
      "\n",
      "\u001b[?2004h\u001b[?2004l\n",
      "\u001b[?2004h\u001b[?2004l\n",
      "\u001b[?2004h\u001b[?2004l\n",
      "\u001b[?2004h\u001b[?2004l\n",
      "\u001b[?2004h\u001b[?2004l\n",
      "\u001b[?2004h\u001b[?2004l\n",
      "\u001b[?2004h\u001b[?2004l\n",
      "\u001b[?2004h\u001b[?2004l\n",
      "\u001b[?2004h\u001b[?2004l\n",
      "\u001b[?2004h\u001b[?2004l\n",
      "\u001b[?2004h\u001b[?2004l\n",
      "\u001b[?2004h\u001b[?2004l\n",
      "\u001b[?2004h"
     ]
    }
   ],
   "source": [
    "t = [-6,-5,5,7]\n",
    "\n",
    "qt = @(t) (t+6).*(t+5).*(t-5).*(t-7);\n",
    "\n",
    "q0t = @(t) (t+5).*(t-5).*(t-7);\n",
    "q1t = @(t) (t+6).*(t-5).*(t-7);\n",
    "q2t = @(t) (t+6).*(t+5).*(t-7);\n",
    "q3t = @(t) (t+6).*(t+5).*(t-5);\n",
    "\n",
    "h0 = (q0t(t(1)));\n",
    "h1 = (q1t(t(2)));\n",
    "h2 = (q2t(t(3)));\n",
    "h3 = (q3t(t(4)));\n"
   ]
  },
  {
   "attachments": {},
   "cell_type": "markdown",
   "metadata": {},
   "source": [
    "Logo, chegamos em:\n",
    "\n",
    "$$\n",
    "L(t) = 10L_0(t) +8L_1(t) -2L_2(t) -1L_3(t)\\\\\n",
    "L(t) = 10\\left(-\\frac{1}{143}\\left(t^3-7t^2-25t+175\\right)\\right)+8\\left(\\frac{1}{120}\\left(t^3-6t^2-37t+210\\right)\\right)-\\\\2\\left(-\\frac{1}{220}\\left(t^3+4t^2-47t-210\\right)\\right)-1\\left(\\frac{1}{312}\\left(t^3-25t+6t^2-150\\right)\\right)\\\\\n",
    "L(t) = \\frac{3t^3}{1144}+\\frac{61t^2}{572}-\\frac{1219t}{1144}+\\frac{191}{572}\n",
    "$$"
   ]
  }
 ],
 "metadata": {
  "kernelspec": {
   "display_name": "Octave",
   "language": "octave",
   "name": "octave"
  },
  "language_info": {
   "file_extension": ".m",
   "help_links": [
    {
     "text": "GNU Octave",
     "url": "https://www.gnu.org/software/octave/support.html"
    },
    {
     "text": "Octave Kernel",
     "url": "https://github.com/Calysto/octave_kernel"
    },
    {
     "text": "MetaKernel Magics",
     "url": "https://metakernel.readthedocs.io/en/latest/source/README.html"
    }
   ],
   "mimetype": "text/x-octave",
   "name": "octave",
   "version": "7.2.0"
  },
  "orig_nbformat": 4,
  "vscode": {
   "interpreter": {
    "hash": "e7370f93d1d0cde622a1f8e1c04877d8463912d04d973331ad4851f04de6915a"
   }
  }
 },
 "nbformat": 4,
 "nbformat_minor": 2
}
