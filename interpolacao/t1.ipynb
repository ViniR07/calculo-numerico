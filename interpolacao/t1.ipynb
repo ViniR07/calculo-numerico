{
 "cells": [
  {
   "attachments": {},
   "cell_type": "markdown",
   "metadata": {},
   "source": [
    "# T4.1 (Correto)\n",
    "\n",
    "Considere o problema de interpolar os pontos abaixo pelo método de Newton:\n",
    "\n",
    "- $(t_0,z_0)=(−10,7)$\n",
    "- $(t_1,z_1)=(−5,−6)$\n",
    "- $(t_2,z_2)=(−3,4)$\n",
    "- $(t_3,z_3)=(2,-7)$\n",
    "- $(t_4,z_4)=(5,−9)$\n",
    "- $(t_5,z_5)=(7,−9)$\n",
    "\n",
    "Encontre os coeficientes $ω_{i,j}$ das diferenças $p^i_j(t)−p^i_{j−1}(t)$ dos polinômios $p^i_j(t)$ que interpolam os pontos $(t_i,z_i),…,(t_j,z_j)$, e encontre também o polinômio interpolador $p^0_5(t)$ que interpola todos os pontos em questão. Digite como resposta frações irredutíveis em que os denominadores são inteiros positivos."
   ]
  },
  {
   "attachments": {},
   "cell_type": "markdown",
   "metadata": {},
   "source": [
    "## Resolução\n",
    "\n",
    "Para $w_{i,j}$, utilizaremos o teorema:\n",
    "\n",
    "$$\n",
    "  w_{i,j} = \\frac{w_{i+1,j} - w_{i,j-1}}{t_j - t_i}, \\ \\forall \\ 0 \\leq i \\leq j \\leq n\n",
    "$$\n"
   ]
  },
  {
   "cell_type": "code",
   "execution_count": 1,
   "metadata": {},
   "outputs": [
    {
     "name": "stdout",
     "output_type": "stream",
     "text": [
      "\u001b[?2004l\n",
      "\n",
      "\n",
      "\n",
      "\u001b[?2004h\n",
      "\u001b[?2004l\n",
      "\n",
      "\n",
      "\n",
      "\u001b[?2004h\n",
      "\u001b[?2004l\n",
      "\n",
      "\n",
      "\n",
      "\u001b[?2004h\n",
      "\u001b[?2004l\n",
      "\u001b[?2004h\u001b[?2004l\n",
      "\u001b[?2004h\u001b[?2004l\n",
      "\u001b[?2004h\u001b[?2004l\n",
      "\u001b[?2004h\u001b[?2004l\n",
      "\u001b[?2004h\u001b[?2004l\n",
      "\u001b[?2004h\u001b[?2004l\n",
      "i: 0, j: 1, w(i,j) = -13.000000000000 / 5.000000000000 = -2.600000000000\n",
      "i: 1, j: 2, w(i,j) = 10.000000000000 / 2.000000000000 = 5.000000000000\n",
      "i: 2, j: 3, w(i,j) = -11.000000000000 / 5.000000000000 = -2.200000000000\n",
      "i: 3, j: 4, w(i,j) = -2.000000000000 / 3.000000000000 = -0.666666666667\n",
      "i: 4, j: 5, w(i,j) = 0.000000000000 / 2.000000000000 = 0.000000000000\n",
      "i: 0, j: 2, w(i,j) = 7.600000000000 / 7.000000000000 = 1.085714285714\n",
      "i: 1, j: 3, w(i,j) = -7.200000000000 / 7.000000000000 = -1.028571428571\n",
      "i: 2, j: 4, w(i,j) = 1.533333333333 / 8.000000000000 = 0.191666666667\n",
      "i: 3, j: 5, w(i,j) = 0.666666666667 / 5.000000000000 = 0.133333333333\n",
      "i: 0, j: 3, w(i,j) = -2.114285714286 / 12.000000000000 = -0.176190476190\n",
      "i: 1, j: 4, w(i,j) = 1.220238095238 / 10.000000000000 = 0.122023809524\n",
      "i: 2, j: 5, w(i,j) = -0.058333333333 / 10.000000000000 = -0.005833333333\n",
      "i: 0, j: 4, w(i,j) = 0.298214285714 / 15.000000000000 = 0.019880952381\n",
      "i: 1, j: 5, w(i,j) = -0.127857142857 / 12.000000000000 = -0.010654761905\n",
      "i: 0, j: 5, w(i,j) = -0.030535714286 / 17.000000000000 = -0.001796218487\n",
      "w =\n",
      "\n",
      "   7.0000  -2.6000   1.0857  -0.1762   0.0199  -0.0018\n",
      "        0  -6.0000   5.0000  -1.0286   0.1220  -0.0107\n",
      "        0        0   4.0000  -2.2000   0.1917  -0.0058\n",
      "        0        0        0  -7.0000  -0.6667   0.1333\n",
      "        0        0        0        0  -9.0000        0\n",
      "        0        0        0        0        0  -9.0000\n",
      "\n",
      "\u001b[?2004h"
     ]
    }
   ],
   "source": [
    "t = [-10,-5,-3,2,5,7];\n",
    "z = [7,-6,4,-7,-9,-9];\n",
    "\n",
    "[w] = metodoNewtonInterp(t,z)\n"
   ]
  },
  {
   "attachments": {},
   "cell_type": "markdown",
   "metadata": {},
   "source": [
    "**Transformar os $w_{i,j}$ em frações sobre frações** e utilizar para p(x)\n",
    "\n",
    "Para \n",
    "\n",
    "$$\n",
    "p(t) = w_{0,0} + w_{0,1}*(x-t_{0}) + w_{0,2}*(x-t_{0})*(x-t_{1}) + w_{0,3}*(x-t_{0})*(x-t_{1})*(x-t_{2}) \\\\+ w_{0,4}*(x-t_{0})*(x-t_{1})*(x-t_{2})*(x-t_{3}) + w_{0,5}*(x-t_{0})*(x-t_{1})*(x-t_{2})*(x-t_{3})*(x-t_{4})\n",
    "$$"
   ]
  },
  {
   "cell_type": "code",
   "execution_count": 3,
   "metadata": {},
   "outputs": [
    {
     "name": "stdout",
     "output_type": "stream",
     "text": [
      "\u001b[?2004l\n",
      "\u001b[?2004h\u001b[?2004l\n",
      "\u001b[?2004h\u001b[?2004l\n",
      "\u001b[?2004h\u001b[?2004l\n",
      "\u001b[?2004h\u001b[?2004l\n",
      "pt =\n",
      "\n",
      "@(x) -52379 / 14280 * x - 12689 / 40800 * x ^ 2 + 27 / 136 + 51301 / 285600 * x ^ 3 + 1 / 8160 * x ^ 4 - 171 / 95200 * x ^ 5\n",
      "\n",
      "\u001b[?2004h"
     ]
    }
   ],
   "source": [
    "\n",
    "# pt = @(x) w(1,1) + w(1,2)*(x-t(1)) + w(1,3)*(x-t(1))*(x-t(2)) + w(1,4)*(x-t(1))*(x-t(2))*(x-t(3)) + w(1,5)*(x-t(1))*(x-t(2))*(x-t(3))*(x-t(4)) + w(1,6)*(x-t(1))*(x-t(2))*(x-t(3))*(x-t(4))*(x-t(5));\n",
    "pt = @(x) -52379/14280*x - 12689/40800*x^2 + 27/136 + 51301/285600 * x^3 + 1/8160*x^4 - 171/95200 *x^5;\n",
    "\n",
    "pt\n"
   ]
  }
 ],
 "metadata": {
  "kernelspec": {
   "display_name": "Octave",
   "language": "octave",
   "name": "octave"
  },
  "language_info": {
   "file_extension": ".m",
   "help_links": [
    {
     "text": "GNU Octave",
     "url": "https://www.gnu.org/software/octave/support.html"
    },
    {
     "text": "Octave Kernel",
     "url": "https://github.com/Calysto/octave_kernel"
    },
    {
     "text": "MetaKernel Magics",
     "url": "https://metakernel.readthedocs.io/en/latest/source/README.html"
    }
   ],
   "mimetype": "text/x-octave",
   "name": "octave",
   "version": "7.2.0"
  },
  "orig_nbformat": 4
 },
 "nbformat": 4,
 "nbformat_minor": 2
}
