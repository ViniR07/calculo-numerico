{
 "cells": [
  {
   "cell_type": "markdown",
   "metadata": {},
   "source": [
    "Scripts\n",
    "jupyter console --kernel octave\n",
    "export PATH=$PATH:~/.local/bin "
   ]
  },
  {
   "cell_type": "markdown",
   "metadata": {},
   "source": [
    "# Atividade T1.1\n",
    "\n",
    "**Seja $p(x) = ax^{3}+bx^{2}+cx+d$ o polinômio interpolador dos pontos abaixo:**\n",
    "\n",
    "(−4,−10)\n",
    "(−2,−3)\n",
    "(2,−1)\n",
    "(5,10)\n",
    "\n",
    "**Determine o valor de b com pelo menos 4 casas decimais corretas.**\n",
    "\n",
    "\n",
    "\n",
    "1. Vamos transformar o problema do polinômio interpolador em um sistema linear, com matriz ampliada:\n",
    "\n",
    "$$\n",
    "\\begin{bmatrix}\n",
    "-64 & 16 & -4 & 1\\\\\n",
    "-8 & 4 & -2 & 1\\\\\n",
    "8 & 4 & 2 & 1\\\\\n",
    "125 & 25 & 5 & 1\n",
    "\\end{bmatrix} . \\begin{bmatrix} \n",
    "a\\\\\n",
    "b\\\\\n",
    "c\\\\\n",
    "d\n",
    "\\end{bmatrix} = \\begin{bmatrix}\n",
    "-10\\\\\n",
    "-3\\\\\n",
    "-1\\\\\n",
    "10\n",
    "\\end{bmatrix}\n",
    "$$\n",
    "\n",
    "Extraindo a matriz ampliada temos:\n",
    "\n",
    "$$\n",
    "\\begin{bmatrix}\n",
    "-64 & 16 & -4 & 1 & -10\\\\\n",
    "-8 & 4 & -2 & 1 & -3\\\\\n",
    "8 & 4 & 2 & 1 & -1\\\\\n",
    "125 & 25 & 5 & 1 & 10\n",
    "\\end{bmatrix}\n",
    "$$\n",
    "\n",
    "Precisamos escalonar essa matriz para extrairmos os valores das variáveis:"
   ]
  },
  {
   "cell_type": "code",
   "execution_count": 3,
   "metadata": {},
   "outputs": [
    {
     "name": "stdout",
     "output_type": "stream",
     "text": [
      "A =\n",
      "\n",
      "   -64    16    -4     1\n",
      "    -8     4    -2     1\n",
      "     8     4     2     1\n",
      "   125    25     5     1\n",
      "\n",
      "b =\n",
      "\n",
      "  -10\n",
      "   -3\n",
      "   -1\n",
      "   10\n",
      "\n",
      "x =\n",
      "\n",
      "   0.105820\n",
      "  -0.076720\n",
      "   0.076720\n",
      "  -1.693122\n",
      "\n",
      "A =\n",
      "\n",
      "   125.0000    25.0000     5.0000     1.0000\n",
      "          0    28.8000    -1.4400     1.5120\n",
      "          0          0     1.8000     0.8100\n",
      "          0          0          0     1.4000\n",
      "\n",
      "b =\n",
      "\n",
      "   10.0000\n",
      "   -4.8800\n",
      "   -1.2333\n",
      "   -2.3704\n",
      "\n"
     ]
    }
   ],
   "source": [
    "A = [-64 16 -4 1; -8 4 -2 1; 8 4 2 1; 125 25 5 1]\n",
    "b = [-10; -3; -1; 10]\n",
    "\n",
    "[x, A, b] = gaussPivotP(A, b)"
   ]
  },
  {
   "cell_type": "markdown",
   "metadata": {},
   "source": [
    "### Resultado\n",
    "\n",
    "Como vemos o resultado do escalonamento nos trás:\n",
    "\n",
    "$$\n",
    "\\begin{bmatrix}\n",
    "   125.0000  &  25.0000  &   5.0000  &   1.0000 & 10.0000\\\\\n",
    "          0  &  28.8000    & -1.4400   &  1.5120 & -4.8800\\\\\n",
    "          0  &        0    & 1.8000  &   0.8100 & -1.2333\\\\\n",
    "          0  &        0    &      0  &   1.4000 & -2.3704\n",
    "\\end{bmatrix}\n",
    "$$\n",
    "\n",
    "Nos dando o resultado:\n",
    "\n",
    "$$\n",
    "x = \n",
    "\\begin{bmatrix}\n",
    "   0.105820\\\\\n",
    "  -0.076720\\\\\n",
    "   0.076720\\\\\n",
    "  -1.693122\n",
    "\\end{bmatrix}\n",
    "$$\n",
    "\n",
    "Assim $b = -0.0767$."
   ]
  }
 ],
 "metadata": {
  "kernelspec": {
   "display_name": "Octave",
   "language": "octave",
   "name": "octave"
  },
  "language_info": {
   "file_extension": ".m",
   "help_links": [
    {
     "text": "GNU Octave",
     "url": "https://www.gnu.org/software/octave/support.html"
    },
    {
     "text": "Octave Kernel",
     "url": "https://github.com/Calysto/octave_kernel"
    },
    {
     "text": "MetaKernel Magics",
     "url": "https://metakernel.readthedocs.io/en/latest/source/README.html"
    }
   ],
   "mimetype": "text/x-octave",
   "name": "octave",
   "version": "6.4.0"
  },
  "orig_nbformat": 4,
  "vscode": {
   "interpreter": {
    "hash": "916dbcbb3f70747c44a77c7bcd40155683ae19c65e1c03b4aa3499c5328201f1"
   }
  }
 },
 "nbformat": 4,
 "nbformat_minor": 2
}
