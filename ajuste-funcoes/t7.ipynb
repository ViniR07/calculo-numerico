{
 "cells": [
  {
   "attachments": {},
   "cell_type": "markdown",
   "metadata": {},
   "source": [
    "# Atividade T2.7 (Correto)\n",
    "\n",
    "Considere a família abaixo de polinômios ortogonais no intervalo [−1,1]\n",
    "\n",
    "- $p_0(x)=\\frac{1}{2}$\n",
    "\n",
    "- $p_1(x)=\\frac{2}{3}x$\n",
    "\n",
    "- $p_2(x)=\\frac{8}{45}(x^2−\\frac{1}{3})$\n",
    "\n",
    "- $p_3(x)=\\frac{8}{175}(x^3−\\frac{3}{5}x)$\n",
    "\n",
    "\n",
    "Encontre os coeficientes $a0, a1, a2 e a3$ (com pelo menos 6 casas decimais exatas) do polinômio de grau 3\n",
    "\n",
    "- $p(x)=a_0⋅p_0(x)+a_1⋅p_1(x)+a_2⋅p_2(x)+a_3⋅p_3(x)$\n",
    "\n",
    "que melhor se ajusta à função\n",
    "\n",
    "- $f(x)=(-1.8)cos(x)+(3.1)sen(x)$\n",
    "\n",
    "no intervalo $[−1,1]$.\n",
    "\n",
    "Qual os valores corretos de $a_0$, $a_1$, $a_2$ e $a_3$?"
   ]
  },
  {
   "cell_type": "code",
   "execution_count": 1,
   "metadata": {},
   "outputs": [
    {
     "name": "stdout",
     "output_type": "stream",
     "text": [
      "\u001b[?2004l\n",
      "\n",
      "\n",
      "\n",
      "\u001b[?2004h\n",
      "\u001b[?2004l\n",
      "\n",
      "\n",
      "\n",
      "\u001b[?2004h\n",
      "\u001b[?2004l\n",
      "\n",
      "\n",
      "\n",
      "\u001b[?2004h\n",
      "\u001b[?2004l\n",
      "\u001b[?2004h\u001b[?2004l\n",
      "\u001b[?2004h\u001b[?2004l\n",
      "\u001b[?2004h\u001b[?2004l\n",
      "\u001b[?2004h\u001b[?2004l\n",
      "\u001b[?2004h\u001b[?2004l\n",
      "\u001b[?2004h\u001b[?2004l\n",
      "\u001b[?2004h\u001b[?2004l\n",
      "\u001b[?2004h\u001b[?2004l\n",
      "\u001b[?2004h\u001b[?2004l\n",
      "\u001b[?2004h\u001b[?2004l\n",
      "\u001b[?2004h\u001b[?2004l\n",
      "alpha0 = -3.0293\n",
      "alpha1 = 4.2013\n",
      "alpha2 = 4.7108\n",
      "alpha3 = -10.688\n",
      "error: 'coeffs' undefined near line 29, column 7\n",
      "error: called from\n",
      "    ajusteFuncPol at line 29 column 5\n",
      "\u001b[?2004h"
     ]
    }
   ],
   "source": [
    "\n",
    "p0 = @(x) 1/2;\n",
    "p1 = @(x) 2/3 * x;\n",
    "p2 = @(x) 8/45 * (power(x, 2) - 1/3);\n",
    "p3 = @(x) 8/175 * (power(x, 3) - 3/5 * x);\n",
    "\n",
    "\n",
    "y = @(x) (-1.8)*cos(x) + (3.1)*sin(x);\n",
    "c = -1;\n",
    "d = 1;\n",
    "\n",
    "[a, fx] = ajusteFuncPol(y, p0, p1, p2, p3, c, d)"
   ]
  },
  {
   "cell_type": "code",
   "execution_count": 14,
   "metadata": {},
   "outputs": [
    {
     "name": "stdout",
     "output_type": "stream",
     "text": [
      "alpha0 = -3.4694e-18\n",
      "alpha1 = 0.9035\n",
      "alpha2 = 9.7578e-17\n",
      "alpha3 = -0.1576\n",
      "warning: passing floating-point values to sym is dangerous, see \"help sym\"\n",
      "warning: called from\n",
      "    double_to_sym_heuristic at line 50 column 7\n",
      "    sym at line 379 column 13\n",
      "    times at line 69 column 5\n",
      "    ajusteFuncPol>@<anonymous> at line 27 column 64\n",
      "    sym at line 312 column 7\n",
      "    ajusteFuncPol at line 28 column 6\n",
      "\n",
      "warning: passing floating-point values to sym is dangerous, see \"help sym\"\n",
      "warning: called from\n",
      "    double_to_sym_heuristic at line 50 column 7\n",
      "    sym at line 379 column 13\n",
      "    plus at line 53 column 5\n",
      "    ajusteFuncPol>@<anonymous> at line 27 column 64\n",
      "    sym at line 312 column 7\n",
      "    ajusteFuncPol at line 28 column 6\n",
      "\n",
      "warning: passing floating-point values to sym is dangerous, see \"help sym\"\n",
      "warning: called from\n",
      "    double_to_sym_heuristic at line 50 column 7\n",
      "    sym at line 379 column 13\n",
      "    minus at line 47 column 5\n",
      "    @<anonymous> at line 1 column 24\n",
      "    ajusteFuncPol>@<anonymous> at line 27 column 64\n",
      "    sym at line 312 column 7\n",
      "    ajusteFuncPol at line 28 column 6\n",
      "\n",
      "warning: passing floating-point values to sym is dangerous, see \"help sym\"\n",
      "warning: called from\n",
      "    double_to_sym_heuristic at line 50 column 7\n",
      "    sym at line 379 column 13\n",
      "    times at line 69 column 5\n",
      "    ajusteFuncPol>@<anonymous> at line 27 column 64\n",
      "    sym at line 312 column 7\n",
      "    ajusteFuncPol at line 28 column 6\n",
      "\n",
      "warning: passing floating-point values to sym is dangerous, see \"help sym\"\n",
      "warning: called from\n",
      "    double_to_sym_heuristic at line 50 column 7\n",
      "    sym at line 379 column 13\n",
      "    mtimes at line 54 column 5\n",
      "    @<anonymous> at line 1 column 24\n",
      "    ajusteFuncPol>@<anonymous> at line 27 column 64\n",
      "    sym at line 312 column 7\n",
      "    ajusteFuncPol at line 28 column 6\n",
      "\n",
      "warning: passing floating-point values to sym is dangerous, see \"help sym\"\n",
      "warning: called from\n",
      "    double_to_sym_heuristic at line 50 column 7\n",
      "    sym at line 379 column 13\n",
      "    times at line 69 column 5\n",
      "    ajusteFuncPol>@<anonymous> at line 27 column 64\n",
      "    sym at line 312 column 7\n",
      "    ajusteFuncPol at line 28 column 6\n",
      "\n",
      "a = (sym 1×4 matrix)\n",
      "\n",
      "  ⎡       -159487474803947165          309⋅π   2912                       -103⋅π\n",
      "  ⎢──────────────────────────────────  ───── + ────  1/10248191152060862  ──────\n",
      "  ⎣4430759985949719572502951852244992  10265   3223                         2053\n",
      "  \n",
      "   ⎤\n",
      "  ─⎥\n",
      "   ⎦\n",
      "\n"
     ]
    }
   ],
   "source": [
    "# EXEMPLO DO Professor\n",
    "\n",
    "p0 = @(x) 1;\n",
    "p1 = @(x) x;\n",
    "p2 = @(x) (power(x, 2) - 1/3);\n",
    "p3 = @(x) (power(x, 3) - 3/5 * x);\n",
    "\n",
    "\n",
    "y = @(x) sin(x);\n",
    "c = -1;\n",
    "d = 1;\n",
    "\n",
    "[a, fx] = ajusteFuncPol(y, p0, p1, p2, p3, c, d);\n",
    "a"
   ]
  },
  {
   "cell_type": "markdown",
   "metadata": {},
   "source": [
    "309*pi / 10265 + (2912 / 3223) = 0,9981\n",
    "-(103*pi) / 2053 = -0,158"
   ]
  },
  {
   "cell_type": "markdown",
   "metadata": {},
   "source": [
    "<img src=\"./resp-prof.png\" />"
   ]
  }
 ],
 "metadata": {
  "kernelspec": {
   "display_name": "Octave",
   "language": "octave",
   "name": "octave"
  },
  "language_info": {
   "file_extension": ".m",
   "help_links": [
    {
     "text": "GNU Octave",
     "url": "https://www.gnu.org/software/octave/support.html"
    },
    {
     "text": "Octave Kernel",
     "url": "https://github.com/Calysto/octave_kernel"
    },
    {
     "text": "MetaKernel Magics",
     "url": "https://metakernel.readthedocs.io/en/latest/source/README.html"
    }
   ],
   "mimetype": "text/x-octave",
   "name": "octave",
   "version": "7.2.0"
  },
  "orig_nbformat": 4
 },
 "nbformat": 4,
 "nbformat_minor": 2
}
