{
 "cells": [
  {
   "attachments": {},
   "cell_type": "markdown",
   "metadata": {},
   "source": [
    "# Atividade T2.6 (Correto)\n",
    "\n",
    "Considere $x_1=0$, $x_2=0.2$, $x_3=0.4$, $x_4=0.6$ e o produto escalar\n",
    "\n",
    "$$⟨ f , g ⟩= \\sum\\limits_{i=1}^{4}f(x_i)g(x_i)$$\n",
    "\n",
    "Encontre os coeficientes a e b (com pelo menos 6 casas decimais exatas) do polinômio\n",
    "\n",
    "- $p2(x)=x²+ax+b$\n",
    "\n",
    "que é simultaneamente ortogonal a\n",
    "\n",
    "- $p1(x)=x$\n",
    "\n",
    "e a\n",
    "\n",
    "- $p0(x)=1$\n",
    "\n",
    "segundo o produto interno em questão."
   ]
  },
  {
   "cell_type": "code",
   "execution_count": 2,
   "metadata": {},
   "outputs": [
    {
     "name": "stdout",
     "output_type": "stream",
     "text": [
      "For information about changes from previous versions of the symbolic package, run 'news symbolic'.\n"
     ]
    }
   ],
   "source": [
    "pkg -forge install symbolic #only once to install\n",
    "pkg load symbolic"
   ]
  },
  {
   "cell_type": "code",
   "execution_count": 23,
   "metadata": {},
   "outputs": [
    {
     "name": "stdout",
     "output_type": "stream",
     "text": [
      "x =\n",
      "\n",
      "  -0.600000\n",
      "   0.040000\n",
      "\n"
     ]
    }
   ],
   "source": [
    "x = [0, 0.2, 0.4, 0.6];\n",
    "\n",
    "% p1 = @(x) x;\n",
    "% p0 = @(x) 1;\n",
    "\n",
    "[x] = polinomiosSimultOrtgSom(x)"
   ]
  },
  {
   "cell_type": "markdown",
   "metadata": {},
   "source": [
    "\n",
    "<img src=\"./resp-prof1.png\" />"
   ]
  },
  {
   "cell_type": "code",
   "execution_count": 22,
   "metadata": {},
   "outputs": [
    {
     "name": "stdout",
     "output_type": "stream",
     "text": [
      "alpha2 = 0.5000\n",
      "beta2 = 0.083333\n",
      "warning: passing floating-point values to sym is dangerous, see \"help sym\"\n",
      "warning: called from\n",
      "    double_to_sym_heuristic at line 50 column 7\n",
      "    sym at line 379 column 13\n",
      "    minus at line 47 column 5\n",
      "    polinomiosSimultOrtgInt>@<anonymous> at line 36 column 35\n",
      "    sym at line 312 column 7\n",
      "    polinomiosSimultOrtgInt at line 37 column 7\n",
      "\n",
      "warning: passing floating-point values to sym is dangerous, see \"help sym\"\n",
      "warning: called from\n",
      "    double_to_sym_heuristic at line 50 column 7\n",
      "    sym at line 379 column 13\n",
      "    minus at line 47 column 5\n",
      "    @<anonymous> at line 1 column 14\n",
      "    polinomiosSimultOrtgInt>@<anonymous> at line 36 column 35\n",
      "    sym at line 312 column 7\n",
      "    polinomiosSimultOrtgInt at line 37 column 7\n",
      "\n",
      "warning: passing floating-point values to sym is dangerous, see \"help sym\"\n",
      "warning: called from\n",
      "    double_to_sym_heuristic at line 50 column 7\n",
      "    sym at line 379 column 13\n",
      "    minus at line 47 column 5\n",
      "    polinomiosSimultOrtgInt>@<anonymous> at line 36 column 35\n",
      "    sym at line 312 column 7\n",
      "    polinomiosSimultOrtgInt at line 37 column 7\n",
      "\n",
      "x = (sym) [1/6  -1  1]  (1×3 matrix)\n"
     ]
    }
   ],
   "source": [
    "# EXEMPLO DO PROFESSOR\n",
    "x = [0, 0.2, 0.6, 1.4]; # Não estamos usando x_is\n",
    "\n",
    "p0 = @(x) 1;\n",
    "p1 = @(x) (x - 1/2);\n",
    "\n",
    "% f = sym(\"10*x^10 + 5*x^5 + 2*x^2\")\n",
    "% coeffs(f)\n",
    "\n",
    "[x] = polinomiosSimultOrtgInt(p0, p1, x)"
   ]
  },
  {
   "cell_type": "markdown",
   "metadata": {},
   "source": [
    "p2(x) = x² - x + 1/6. Correto!\n"
   ]
  }
 ],
 "metadata": {
  "kernelspec": {
   "display_name": "Octave",
   "language": "octave",
   "name": "octave"
  },
  "language_info": {
   "file_extension": ".m",
   "help_links": [
    {
     "text": "GNU Octave",
     "url": "https://www.gnu.org/software/octave/support.html"
    },
    {
     "text": "Octave Kernel",
     "url": "https://github.com/Calysto/octave_kernel"
    },
    {
     "text": "MetaKernel Magics",
     "url": "https://metakernel.readthedocs.io/en/latest/source/README.html"
    }
   ],
   "mimetype": "text/x-octave",
   "name": "octave",
   "version": "6.4.0"
  },
  "orig_nbformat": 4
 },
 "nbformat": 4,
 "nbformat_minor": 2
}
