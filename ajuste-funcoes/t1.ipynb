{
 "cells": [
  {
   "cell_type": "markdown",
   "metadata": {},
   "source": [
    "# Atividade T2.1 (Correto)\n",
    "\n",
    "Determine o parâmetro $a$, com precisão de pelo menos 6 casas decimais, que melhor ajusta pelo método dos mínimos quadrados a reta\n",
    "\n",
    "- $y=a x$\n",
    "\n",
    "aos pontos tabelados.\n",
    "\n",
    "| x | 2 | 3.0 | 3.4 | 3.9 | 4.6 | 5.3 |\n",
    "| :--- | :----: | :----: | :----: | :----: | :----: | ---: |\n",
    "| y | -11.91 | -17.98 | -20.39 | -23.32 | -27.6 | -31.72 |\n",
    "\n",
    "Ajustando $f(x)=a⋅x$ a uma tabela de pontos pelo método dos mínimos quadrados"
   ]
  },
  {
   "cell_type": "code",
   "execution_count": 2,
   "metadata": {},
   "outputs": [
    {
     "name": "stdout",
     "output_type": "stream",
     "text": [
      "x =\n",
      "\n",
      "   2.0000   3.0000   3.4000   3.9000   4.6000   5.3000\n",
      "\n",
      "y =\n",
      "\n",
      "  -11.910  -17.980  -20.390  -23.320  -27.600  -31.720\n",
      "\n",
      "g =\n",
      "\n",
      "   2.0000   3.0000   3.4000   3.9000   4.6000   5.3000\n",
      "\n",
      "a = -5.988654235\n"
     ]
    }
   ],
   "source": [
    "x = [2, 3, 3.4, 3.9, 4.6, 5.3]\n",
    "y = [-11.91, -17.98, -20.39, -23.32, -27.6, -31.72]\n",
    "\n",
    "gx = @(x) x;\n",
    "\n",
    "g = [gx(x(1)), gx(x(2)), gx(x(3)), gx(x(4)), gx(x(5)), gx(x(6))]\n",
    "\n",
    "output_precision(10)\n",
    "[a] = funcLinUmParametro(y, g)\n"
   ]
  }
 ],
 "metadata": {
  "kernelspec": {
   "display_name": "Octave",
   "language": "octave",
   "name": "octave"
  },
  "language_info": {
   "file_extension": ".m",
   "help_links": [
    {
     "text": "GNU Octave",
     "url": "https://www.gnu.org/software/octave/support.html"
    },
    {
     "text": "Octave Kernel",
     "url": "https://github.com/Calysto/octave_kernel"
    },
    {
     "text": "MetaKernel Magics",
     "url": "https://metakernel.readthedocs.io/en/latest/source/README.html"
    }
   ],
   "mimetype": "text/x-octave",
   "name": "octave",
   "version": "6.4.0"
  },
  "orig_nbformat": 4
 },
 "nbformat": 4,
 "nbformat_minor": 2
}
