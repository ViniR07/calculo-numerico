{
 "cells": [
  {
   "attachments": {},
   "cell_type": "markdown",
   "metadata": {},
   "source": [
    "# T6.1 (Correto)\n",
    "\n",
    "Considere a equação diferencial\n",
    "\n",
    "$$\n",
    "x'=a x^2− b sen(t)\n",
    "$$\n",
    "\n",
    "em que $a=0.15$ e $b=0.51$, com a condição inicial $x(0)=1$.\n",
    "\n",
    "Obtenha uma discretização/aproximação da solução $x(t)$ usando o Método de Euler de primeira ordem, no intervalo $[0,0.6]$, com passo $h=0.1$.\n",
    "\n",
    "Faça seus cálculos com a máxima precisão possível, e digite como resposta os valores encontrados com pelo menos 12 algarismos significativos.\n"
   ]
  },
  {
   "cell_type": "code",
   "execution_count": 43,
   "metadata": {},
   "outputs": [
    {
     "name": "stdout",
     "output_type": "stream",
     "text": [
      "y(0.00) = 1.0000000000000000\n",
      "y(0.10) = 1.0149999999999999\n",
      "y(0.20) = 1.0253618707510117\n",
      "y(0.30) = 1.0310002393703137\n",
      "y(0.40) = 1.0318731312343101\n",
      "y(0.50) = 1.0279842281610185\n",
      "y(0.60) = 1.0193847992924212\n"
     ]
    }
   ],
   "source": [
    "alpha = 0.15;\n",
    "betha = 0.51;\n",
    "\n",
    "f = @(t, y) alpha*y.^2 - betha * sin(t); \n",
    "\n",
    "a = 0;\n",
    "b = 0.6;\n",
    "y0 = 1;\n",
    "h = 0.1;\n",
    "\n",
    "[y] = euler(f, a, b, h, y0);"
   ]
  }
 ],
 "metadata": {
  "kernelspec": {
   "display_name": "Octave",
   "language": "octave",
   "name": "octave"
  },
  "language_info": {
   "file_extension": ".m",
   "help_links": [
    {
     "text": "GNU Octave",
     "url": "https://www.gnu.org/software/octave/support.html"
    },
    {
     "text": "Octave Kernel",
     "url": "https://github.com/Calysto/octave_kernel"
    },
    {
     "text": "MetaKernel Magics",
     "url": "https://metakernel.readthedocs.io/en/latest/source/README.html"
    }
   ],
   "mimetype": "text/x-octave",
   "name": "octave",
   "version": "7.2.0"
  },
  "orig_nbformat": 4
 },
 "nbformat": 4,
 "nbformat_minor": 2
}
