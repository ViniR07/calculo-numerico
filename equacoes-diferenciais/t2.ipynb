{
 "cells": [
  {
   "attachments": {},
   "cell_type": "markdown",
   "metadata": {},
   "source": [
    "# T6.2 (Correto)\n",
    "\n",
    "Considere a equação diferencial\n",
    "\n",
    "$$\n",
    "x'=f(t,x)=te^{x^2}\n",
    "$$\n",
    "\n",
    "com a condição inicial $x(0)=1$.\n",
    "\n",
    "Calcule numericamente o valor de $x(T)$, em que $T=0.262$, pelo Método de Runge-Kutta de ordem 2, de ordem 3 e de ordem 4, com precisão de 8 casas decimais.\n",
    "\n",
    "Para isso, discretize o intervalo $[0,T]$ em passos $h=\\frac{T}{n}$ com $n=1,2,3,\\cdots$ e utilize as respectivas fórmulas de iterações abaixo até obter duas aproximações consecutivas ($n−1$ e $n$) coincidindo até a 8 casa decimal em cada uma delas.\n",
    "\n",
    "Runge-Kutta de ordem 2:\n",
    "- $ξ_1=f(t_k,x_k)$;\n",
    "- $ξ_2=f(t_k+h,x_k+hξ_1)$;\n",
    "- $x_{k+1}=x_k+h2(ξ_1+ξ_2)$.\n",
    "\n",
    "Runge-Kutta de ordem 3:\n",
    "- $ξ_1=f(t_k,x_k)$;\n",
    "- $ξ_2=f(t_k+12h,x_k+12hξ_1)$;\n",
    "- $ξ_3=f(t_k+34h,x_k+34hξ_2)$;\n",
    "- $x_{k+1}=x_k+h9(2ξ_1+3ξ_2+4ξ_3)$.\n",
    "\n",
    "Runge-Kutta de ordem 4:\n",
    "- $ξ_1=f(t_k,x_k)$;\n",
    "- $ξ_2=f(t_k+12h,x_k+12hξ_1)$;\n",
    "- $ξ_3=f(t_k+12h,x_k+12hξ_2)$;\n",
    "- $ξ_4=f(t_k+h,x_k+hξ_3)$;\n",
    "- $x_{k+1}=x_k+h6(ξ_1+2ξ_2+2ξ_3+ξ4)$.\n",
    "\n",
    "Faça seus cálculos com a máxima precisão possível."
   ]
  },
  {
   "attachments": {},
   "cell_type": "markdown",
   "metadata": {},
   "source": [
    "## Resolução"
   ]
  },
  {
   "cell_type": "code",
   "execution_count": 3,
   "metadata": {},
   "outputs": [],
   "source": [
    "f = @(t,y) t*e^(y^2);\n",
    "y0 = 1;\n",
    "\n",
    "% T = 0.172;\n",
    "T = 0.262;"
   ]
  },
  {
   "attachments": {},
   "cell_type": "markdown",
   "metadata": {},
   "source": [
    "### MRK de ordem 2"
   ]
  },
  {
   "cell_type": "code",
   "execution_count": 4,
   "metadata": {},
   "outputs": [
    {
     "name": "stdout",
     "output_type": "stream",
     "text": [
      "y(n = 1) = 1.093296868916\n",
      "y(n = 2) = 1.101955440131\n",
      "y(n = 3) = 1.103093268987\n",
      "y(n = 4) = 1.103400116020\n",
      "y(n = 5) = 1.103516317236\n",
      "y(n = 6) = 1.103570052396\n",
      "y(n = 7) = 1.103598408940\n",
      "y(n = 8) = 1.103614846088\n",
      "y(n = 9) = 1.103625067213\n",
      "y(n = 10) = 1.103631779105\n",
      "y(n = 11) = 1.103636382723\n",
      "y(n = 12) = 1.103639654629\n",
      "y(n = 13) = 1.103642049911\n",
      "y(n = 14) = 1.103643847845\n",
      "y(n = 15) = 1.103645226598\n",
      "y(n = 16) = 1.103646303669\n",
      "y(n = 17) = 1.103647158795\n",
      "y(n = 18) = 1.103647847461\n",
      "y(n = 19) = 1.103648409132\n",
      "y(n = 20) = 1.103648872434\n",
      "y(n = 21) = 1.103649258496\n",
      "y(n = 22) = 1.103649583161\n",
      "y(n = 23) = 1.103649858475\n",
      "y(n = 24) = 1.103650093719\n",
      "y(n = 25) = 1.103650296126\n",
      "y(n = 26) = 1.103650471393\n",
      "y(n = 27) = 1.103650624054\n",
      "y(n = 28) = 1.103650757750\n",
      "y(n = 29) = 1.103650875427\n",
      "y(n = 30) = 1.103650979492\n",
      "y(n = 31) = 1.103651071920\n",
      "y(n = 32) = 1.103651154349\n",
      "y(n = 33) = 1.103651228140\n",
      "y(n = 34) = 1.103651294436\n",
      "y(n = 35) = 1.103651354199\n",
      "y(n = 36) = 1.103651408242\n",
      "y(n = 37) = 1.103651457259\n",
      "y(n = 38) = 1.103651501844\n",
      "y(n = 39) = 1.103651542504\n",
      "y(n = 40) = 1.103651579679\n",
      "y(n = 41) = 1.103651613749\n",
      "y(n = 42) = 1.103651645045\n",
      "y(n = 43) = 1.103651673855\n",
      "y(n = 44) = 1.103651700430\n",
      "y(n = 45) = 1.103651724992\n",
      "y(n = 46) = 1.103651747737\n",
      "y(n = 47) = 1.103651768835\n",
      "y(n = 48) = 1.103651788441\n",
      "y(n = 49) = 1.103651806689\n",
      "y(n = 50) = 1.103651823700\n",
      "y(n = 51) = 1.103651839582\n",
      "y(n = 52) = 1.103651854430\n",
      "y(n = 53) = 1.103651868332\n",
      "y(n = 54) = 1.103651881365\n",
      "y(n = 55) = 1.103651893599\n",
      "y(n = 56) = 1.103651905097\n",
      "y(n = 57) = 1.103651915917\n",
      "y(n = 58) = 1.103651926109\n",
      "y(n = 59) = 1.103651935720\n",
      "y(n = 60) = 1.103651944795\n",
      "y(n = 61) = 1.103651953370\n",
      "y(n = 62) = 1.103651961483\n",
      "y(n = 63) = 1.103651969164\n"
     ]
    }
   ],
   "source": [
    "n = 63;\n",
    "\n",
    "for i = 1:n\n",
    "    rangekutta(f,T, i, 2, y0);\n",
    "end\n"
   ]
  },
  {
   "cell_type": "code",
   "execution_count": 5,
   "metadata": {},
   "outputs": [],
   "source": [
    "% y(n = 62) = 1.10365196\n",
    "% y(n = 63) = 1.10365196"
   ]
  },
  {
   "cell_type": "code",
   "execution_count": 6,
   "metadata": {},
   "outputs": [],
   "source": [
    "% y(n = 33) = 1.04194286\n",
    "% y(n = 34) = 1.04194286\n",
    "\n",
    "% y(n = 36) = 1.04194288\n",
    "% y(n = 37) = 1.04194288"
   ]
  },
  {
   "attachments": {},
   "cell_type": "markdown",
   "metadata": {},
   "source": [
    "### MRK de ordem 3"
   ]
  },
  {
   "cell_type": "code",
   "execution_count": 7,
   "metadata": {},
   "outputs": [
    {
     "name": "stdout",
     "output_type": "stream",
     "text": [
      "y(n = 1) = 1.102990806939\n",
      "y(n = 2) = 1.103536026562\n",
      "y(n = 3) = 1.103614632341\n",
      "y(n = 4) = 1.103635750620\n",
      "y(n = 5) = 1.103643603448\n",
      "y(n = 6) = 1.103647157097\n",
      "y(n = 7) = 1.103648990880\n",
      "y(n = 8) = 1.103650030401\n",
      "y(n = 9) = 1.103650662774\n",
      "y(n = 10) = 1.103651069201\n",
      "y(n = 11) = 1.103651342166\n",
      "y(n = 12) = 1.103651532223\n",
      "y(n = 13) = 1.103651668591\n",
      "y(n = 14) = 1.103651768958\n",
      "y(n = 15) = 1.103651844459\n",
      "y(n = 16) = 1.103651902337\n",
      "y(n = 17) = 1.103651947449\n",
      "y(n = 18) = 1.103651983127\n",
      "y(n = 19) = 1.103652011713\n",
      "y(n = 20) = 1.103652034886\n",
      "y(n = 21) = 1.103652053868\n",
      "y(n = 22) = 1.103652069564\n",
      "y(n = 23) = 1.103652082657\n",
      "y(n = 24) = 1.103652093664\n",
      "y(n = 25) = 1.103652102984\n",
      "y(n = 26) = 1.103652110929\n",
      "y(n = 27) = 1.103652117743\n"
     ]
    }
   ],
   "source": [
    "n = 27;\n",
    "\n",
    "for i = 1:n\n",
    "    rangekutta(f,T, i, 3, y0);\n",
    "end\n"
   ]
  },
  {
   "cell_type": "code",
   "execution_count": 8,
   "metadata": {},
   "outputs": [],
   "source": [
    "% y(n = 26) = 1.10365211\n",
    "% y(n = 27) = 1.10365211"
   ]
  },
  {
   "cell_type": "code",
   "execution_count": 9,
   "metadata": {},
   "outputs": [],
   "source": [
    "% y(n = 13) = 1.04194292\n",
    "% y(n = 14) = 1.04194292"
   ]
  },
  {
   "attachments": {},
   "cell_type": "markdown",
   "metadata": {},
   "source": [
    "### MRK de ordem 4"
   ]
  },
  {
   "cell_type": "code",
   "execution_count": 10,
   "metadata": {},
   "outputs": [
    {
     "name": "stdout",
     "output_type": "stream",
     "text": [
      "y(n = 1) = 1.103903501954\n",
      "y(n = 2) = 1.103673473902\n",
      "y(n = 3) = 1.103656923127\n",
      "y(n = 4) = 1.103653771109\n",
      "y(n = 5) = 1.103652852426\n",
      "y(n = 6) = 1.103652509297\n",
      "y(n = 7) = 1.103652358319\n",
      "y(n = 8) = 1.103652283666\n",
      "y(n = 9) = 1.103652243379\n",
      "y(n = 10) = 1.103652220107\n",
      "y(n = 11) = 1.103652205912\n",
      "y(n = 12) = 1.103652196858\n",
      "y(n = 13) = 1.103652190864\n"
     ]
    }
   ],
   "source": [
    "n = 13;\n",
    "\n",
    "for i = 1:n\n",
    "    rangekutta(f,T, i, 4, y0);\n",
    "end\n"
   ]
  },
  {
   "cell_type": "code",
   "execution_count": 11,
   "metadata": {},
   "outputs": [],
   "source": [
    "% y(n = 12) = 1.10365219\n",
    "% y(n = 13) = 1.10365219"
   ]
  },
  {
   "cell_type": "code",
   "execution_count": 12,
   "metadata": {},
   "outputs": [],
   "source": [
    "% y(n = 7) = 1.04194295\n",
    "% y(n = 8) = 1.04194295"
   ]
  }
 ],
 "metadata": {
  "kernelspec": {
   "display_name": "Octave",
   "language": "octave",
   "name": "octave"
  },
  "language_info": {
   "file_extension": ".m",
   "help_links": [
    {
     "text": "GNU Octave",
     "url": "https://www.gnu.org/software/octave/support.html"
    },
    {
     "text": "Octave Kernel",
     "url": "https://github.com/Calysto/octave_kernel"
    },
    {
     "text": "MetaKernel Magics",
     "url": "https://metakernel.readthedocs.io/en/latest/source/README.html"
    }
   ],
   "mimetype": "text/x-octave",
   "name": "octave",
   "version": "7.2.0"
  },
  "orig_nbformat": 4
 },
 "nbformat": 4,
 "nbformat_minor": 2
}
