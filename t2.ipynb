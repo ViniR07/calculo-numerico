{
 "cells": [
  {
   "cell_type": "markdown",
   "metadata": {},
   "source": [
    "# Atividade T1.2 (Incompleto)\n",
    "\n",
    "Discretizar e resolver a equação $\\frac{\\partial^{2}}{\\partial x^{2}}+\\frac{\\partial^{2}}{\\partial y^{2}}=0$ no quadrado [0,1]×[0,1] com condição de contorno dada por \n",
    "\n",
    "$$\n",
    "\\begin{aligned}\n",
    "T(x,0)=100\\sqrt{x}, T(x,1)=100(\\sqrt{x}−1), para 0≤x≤1;\\\\\n",
    "T(0,y)=−100\\sqrt{y}, T(1,y)=100(1−\\sqrt{y}), para 0≤y≤1.\n",
    "\\end{aligned}\n",
    "$$\n",
    "\n",
    "Divida o intervalo [0,1] em 3 subintervalos de mesmo comprimento e considere a discretização em que \n",
    "\n",
    "T1 é a temperatura no ponto $[\\frac{1}{3},\\frac{2}{3}];$\n",
    "\n",
    "T2 é a temperatura no ponto $[\\frac{2}{3},\\frac{2}{3}];$\n",
    "\n",
    "T3 é a temperatura no ponto $[\\frac{1}{3},\\frac{1}{3}];$\n",
    "\n",
    "T4 é a temperatura no ponto $[\\frac{2}{3},\\frac{1}{3}];$\n",
    "\n",
    "Resolva o sistema pelo Método do Escalonamento, fazendo todas as contas com exatamente 5 algarismos significativos. "
   ]
  },
  {
   "cell_type": "markdown",
   "metadata": {},
   "source": [
    "### Resolução\n",
    "\n",
    "Podemos calcular T1, T2, T3 e T4, como a discretização da temperatura no ponto dado:\n",
    "\n",
    "$$\n",
    "\\begin{aligned}\n",
    "T_1= \\frac{T(\\frac{1}{3}, 1) + T_2 + T_3 + T(0, \\frac{2}{3})}{4}\\\\\n",
    "T_2= \\frac{T(\\frac{2}{3}, 1) + T_1 + T_4 + T(1, \\frac{2}{3})}{4}\\\\\n",
    "T_3= \\frac{T(0, \\frac{1}{3}) + T_1 + T_4 + T(\\frac{1}{3}, 0)}{4}\\\\\n",
    "T_4= \\frac{T(\\frac{2}{3}, 0) + T_3 + T_2 + T(1, \\frac{1}{3})}{4}\\\\\n",
    "\\end{aligned}\n",
    "$$\n",
    "\n",
    "Sabemos que:\n",
    "\n",
    "$$\n",
    "\\begin{aligned}\n",
    "T(\\frac{1}{3}, 1) = -42.265, \\hspace{0.5cm}\n",
    "T(0, \\frac{2}{3}) = -81.650, \\hspace{0.5cm}\n",
    "T(\\frac{2}{3}, 1) = -18.350\\\\\n",
    "T(1, \\frac{2}{3}) = 18.350, \\hspace{0.5cm}\n",
    "T(0, \\frac{1}{3}) = -57.735, \\hspace{0.5cm}\n",
    "T(\\frac{1}{3}, 0) = 57.735\\\\\n",
    "T(\\frac{2}{3}, 0) = 81.650, \\hspace{0.5cm}\n",
    "T(1, \\frac{1}{3}) = 42.265\n",
    "\\end{aligned}\n",
    "$$\n",
    "\n",
    "Logo, \n",
    "\n",
    "$$\n",
    "\\begin{aligned}\n",
    "T_1= \\frac{-123.92 + T_2 + T_3}{4}, \\hspace{0.5cm}\n",
    "T_2= \\frac{T_1 + T_4}{4}\\\\\n",
    "T_3= \\frac{T_1 + T_4}{4}, \\hspace{0.5cm}\n",
    "T_4= \\frac{123.92 + T_3 + T_2}{4}\\\\\n",
    "\\Downarrow\\\\\n",
    "T_1 - \\frac{T_2}{4} - \\frac{T_3}{4} = -\\frac{123.92}{4}, \\hspace{0.5cm}\n",
    "T_2 - \\frac{T_1}{4}- \\frac{T_4}{4} = 0\\\\ \n",
    "T_3 - \\frac{T_1}{4}- \\frac{T_4}{4} = 0, \\hspace{0.5cm}\n",
    "T_4 - \\frac{T_2}{4} - \\frac{T_3}{4} = +\\frac{123.92}{4}\n",
    "\\end{aligned}\n",
    "$$\n",
    "\n",
    "Que pode ser escrito como:\n",
    "\n",
    "$$\n",
    "\\begin{bmatrix}\n",
    "1 & -0.2500 & -0.2500 & 0 & -30.980\\\\\n",
    "-0.2500 & 1 & 0 & -0.2500 & 0\\\\\n",
    "-0.2500 & 0 & 1 & -0.2500 & 0\\\\\n",
    "0 & -0.2500 & -0.2500 & 1 & 30.980\n",
    "\\end{bmatrix}\n",
    "$$\n"
   ]
  },
  {
   "cell_type": "code",
   "execution_count": 8,
   "metadata": {},
   "outputs": [
    {
     "name": "stdout",
     "output_type": "stream",
     "text": [
      "A =\n",
      "\n",
      "   1.0000  -0.2500  -0.2500        0\n",
      "  -0.2500   1.0000        0  -0.2500\n",
      "  -0.2500        0   1.0000  -0.2500\n",
      "        0  -0.2500  -0.2500   1.0000\n",
      "\n",
      "b =\n",
      "\n",
      "  -30.9800\n",
      "         0\n",
      "         0\n",
      "   30.9800\n",
      "\n",
      "x =\n",
      "\n",
      "  -3.0980e+01\n",
      "   9.4739e-16\n",
      "   1.9032e-15\n",
      "   3.0980e+01\n",
      "\n",
      "A =\n",
      "\n",
      "   1.0000  -0.2500  -0.2500        0\n",
      "        0   0.9375  -0.0625  -0.2500\n",
      "        0        0   0.9333  -0.2667\n",
      "        0        0        0   0.8571\n",
      "\n",
      "b =\n",
      "\n",
      "  -30.9800\n",
      "   -7.7450\n",
      "   -8.2613\n",
      "   26.5543\n",
      "\n"
     ]
    }
   ],
   "source": [
    "A = [1 , -0.2500 , -0.2500 , 0;\n",
    "-0.2500 , 1 , 0 , -0.2500;\n",
    "-0.2500 , 0 , 1 , -0.2500;\n",
    "0 , -0.2500 , -0.2500 , 1]\n",
    "b= [-30.980; 0; 0; 30.980]\n",
    "\n",
    "output_precision(5)\n",
    "[x,A,b] = gaussPivotP(A,b)"
   ]
  },
  {
   "cell_type": "code",
   "execution_count": 9,
   "metadata": {},
   "outputs": [],
   "source": [
    "# Funções de temperatura\n",
    "function [] = Tx0(x) \n",
    "  100*(sqrt(x))\n",
    "end\n",
    "function [] = Tx1(x) \n",
    "  100*(sqrt(x) - 1)\n",
    "end\n",
    "function [] = T0y(y) \n",
    "  -100*(sqrt(y))\n",
    "end\n",
    "function [] = T1y(y) \n",
    "  100*(1 - sqrt(y))\n",
    "end"
   ]
  },
  {
   "cell_type": "code",
   "execution_count": 10,
   "metadata": {},
   "outputs": [
    {
     "name": "stdout",
     "output_type": "stream",
     "text": [
      "ans = -42.265\n",
      "ans = -81.650\n",
      "ans = -18.350\n",
      "ans = 18.350\n",
      "ans = -57.735\n",
      "ans = 57.735\n",
      "ans = 81.650\n",
      "ans = 42.265\n"
     ]
    }
   ],
   "source": [
    "Tx1(1/3)\n",
    "T0y(2/3)\n",
    "Tx1(2/3)\n",
    "T1y(2/3)\n",
    "T0y(1/3)\n",
    "Tx0(1/3)\n",
    "Tx0(2/3)\n",
    "T1y(1/3)\n"
   ]
  }
 ],
 "metadata": {
  "kernelspec": {
   "display_name": "Octave",
   "language": "octave",
   "name": "octave"
  },
  "language_info": {
   "file_extension": ".m",
   "help_links": [
    {
     "text": "GNU Octave",
     "url": "https://www.gnu.org/software/octave/support.html"
    },
    {
     "text": "Octave Kernel",
     "url": "https://github.com/Calysto/octave_kernel"
    },
    {
     "text": "MetaKernel Magics",
     "url": "https://metakernel.readthedocs.io/en/latest/source/README.html"
    }
   ],
   "mimetype": "text/x-octave",
   "name": "octave",
   "version": "6.4.0"
  }
 },
 "nbformat": 4,
 "nbformat_minor": 2
}
