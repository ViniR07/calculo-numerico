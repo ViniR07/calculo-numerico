{
 "cells": [
  {
   "attachments": {},
   "cell_type": "markdown",
   "metadata": {},
   "source": [
    "# T3.8 \n",
    "\n",
    "Uma corda de comprimento $5.19$ está sustentada no plano com suas extremidades fixadas nos pontos $(−2.6,2.8)$ e $(2.1,1.7)$. O formato dessa corda é modelado pela equação da catenária $y=\\frac{1}{c}(cos(c(x−a))+h$ em que $c$, $a$ e $h$ são parâmetros do modelo. Determine os valores dos parâmetros para essa corda com precisão de pelo menos 3 casas decimais.\n",
    "\n",
    "- $c$ = ?\n",
    "- $a$ = ?\n",
    "- $h$ = ?"
   ]
  },
  {
   "attachments": {},
   "cell_type": "markdown",
   "metadata": {},
   "source": [
    "## Resposta\n",
    "\n",
    "Uma aplicação interessante do Método de Newton em dimensão 3 ocorre na determinação do formato de uma corda a partir das coordenadas de dois pontos (podem ser os pontos de sustentação) e do comprimento da corda entre os dois pontos.\n",
    "\n",
    "Como vimos, uma corda ou corrente pendurada assume o formato do gráfico da equação da catenária\n",
    "\n",
    "$$\n",
    "y=\\frac{1}{c}cosh(cx)\n",
    "$$\n",
    "\n",
    "em que se assume a origem das coordenadas a uma distância 1c abaixo do ponto mais baixo da corda. Na figura abaixo vemos o gráfico da equação da catenária para c=2.\n",
    "\n",
    "<p align='center' >\n",
    "<img src='./zero_funcoes_catenaria.png' width='300px' />\n",
    "</p>"
   ]
  },
  {
   "attachments": {},
   "cell_type": "markdown",
   "metadata": {},
   "source": [
    "Para resolver este problema iniciaremos utilizando a fórmula para o cálculo de zero de funções pelo método iterativo de Newton em várias dimensões:\n",
    "\n",
    "$$\n",
    "  D[F](c_k,a_k,h_k)\\begin{pmatrix} \n",
    "  c_{k+1}\\\\ \n",
    "  a_{k+1}\\\\ \n",
    "  h_{k+1} \n",
    "  \\end{pmatrix} = D[F](c_k,a_k,h_k) \\begin{pmatrix} \n",
    "  c_{k}\\\\ \n",
    "  a_{k}\\\\\n",
    "  h_{k} \n",
    "  \\end{pmatrix} - F(c_k,a_k,h_k)\n",
    "$$"
   ]
  },
  {
   "attachments": {},
   "cell_type": "markdown",
   "metadata": {},
   "source": [
    "Assim, nossas funções $f_i$ ficarão:\n",
    "\n",
    "$$\n",
    "\\begin{align*}\n",
    "  f_1(c,a,h) &= \\frac{cosh(c(x_0-a))}{c} + h - y_0\\\\\n",
    "  \\\\\n",
    "  f_2(c,a,h) &= \\frac{cosh(c(x_1-a))}{c} + h - y_1\\\\\n",
    "  \\\\\n",
    "  f_3(c,a,h) &= \\frac{sinh(c(x_1-a)) - sinh(c(x_0-a))}{c} - ele\n",
    "\\end{align*}\n",
    "$$\n",
    "\n",
    "Já as derivadas parciais:\n",
    "\n",
    "$$\n",
    "\\begin{align*}\n",
    "  \\frac{\\partial f_1}{\\partial c}(c,a,h) &= \\frac{csinh(c(x_0-a))(x_0-a) - cosh(c(x_0-a))}{c^2}\\\\\n",
    "  \\\\\n",
    "  \\frac{\\partial f_2}{\\partial c}(c,a,h) &= \\frac{csinh(c(x_1-a))(x_1-a) - cosh(c(x_1-a))}{c^2}\\\\\n",
    "  \\\\\n",
    "  \\frac{\\partial f_3}{\\partial c}(c,a,h) &= \\frac{cx_1cosh(c(x_1 - a)) - cacosh(c(x_1-a)) - sinh(c(x_1-a)) + cacosh(c(x_0-a)) - cx_0cosh(c(x_0-a)) + sinh(c(x_0-a))}{c^2}\n",
    "\\end{align*}\n",
    "$$\n",
    "\n",
    "$$\n",
    "\\begin{align*}\n",
    "  \\frac{\\partial f_1}{\\partial a}(c,a,h) &= - sinh(c(x_0-a))\\\\\n",
    "  \\\\\n",
    "  \\frac{\\partial f_2}{\\partial a}(c,a,h) &= - sinh(c(x_1-a))\\\\\n",
    "  \\\\\n",
    "  \\frac{\\partial f_3}{\\partial a}(c,a,h) &= cosh(c(x_0-a)) - cosh(c(x_1-a))\n",
    "\\end{align*}\n",
    "$$\n",
    "\n",
    "$$\n",
    "\\begin{align}\n",
    "   \\frac{\\partial f_1}{\\partial h}(c,a,h) &= 1\\\\\n",
    "   \\\\\n",
    "   \\frac{\\partial f_2}{\\partial h}(c,a,h) &= 1\\\\\n",
    "   \\\\\n",
    "   \\frac{\\partial f_3}{\\partial h}(c,a,h) &= 0\n",
    "\\end{align}\n",
    "$$\n",
    "\n",
    "Logo:"
   ]
  },
  {
   "cell_type": "code",
   "execution_count": 5,
   "metadata": {},
   "outputs": [
    {
     "name": "stdout",
     "output_type": "stream",
     "text": [
      "c_0, a_0, h_0 at 0 iterations is :\n",
      " 1.000000000000  0.000000000000 0.000000000000 \n",
      "c_1, a_1, h_1 at 1 iterations is :\n",
      " 0.632812574443  0.074809358092 -0.563952364405 \n",
      "c_2, a_2, h_2 at 2 iterations is :\n",
      " 0.402620663890  0.204638390951 -1.040283721531 \n",
      "c_3, a_3, h_3 at 3 iterations is :\n",
      " 0.308385375659  0.385630567151 -1.777390620969 \n",
      "c_4, a_4, h_4 at 4 iterations is :\n",
      " 0.290839189229  0.483413019827 -2.109278918096 \n",
      "c_5, a_5, h_5 at 5 iterations is :\n",
      " 0.289904141038  0.492310212600 -2.130836576585 \n",
      "c_6, a_6, h_6 at 6 iterations is :\n",
      " 0.289898998265  0.492355273252 -2.130932573022 \n",
      "c_7, a_7, h_7 at 7 iterations is :\n",
      " 0.289898998133  0.492355274475 -2.130932575658 \n",
      "c_8, a_8, h_8 at 8 iterations is :\n",
      " 0.289898998133  0.492355274475 -2.130932575658 \n",
      "c_9, a_9, h_9 at 9 iterations is :\n",
      " 0.289898998133  0.492355274475 -2.130932575658 \n",
      "c_10, a_10, h_10 at 10 iterations is :\n",
      " 0.289898998133  0.492355274475 -2.130932575658 \n",
      "c_11, a_11, h_11 at 11 iterations is :\n",
      " 0.289898998133  0.492355274475 -2.130932575658 \n",
      "c_12, a_12, h_12 at 12 iterations is :\n",
      " 0.289898998133  0.492355274475 -2.130932575658 \n",
      "c_13, a_13, h_13 at 13 iterations is :\n",
      " 0.289898998133  0.492355274475 -2.130932575658 \n",
      "c_14, a_14, h_14 at 14 iterations is :\n",
      " 0.289898998133  0.492355274475 -2.130932575658 \n",
      "c_15, a_15, h_15 at 15 iterations is :\n",
      " 0.289898998133  0.492355274475 -2.130932575658 \n",
      "c_16, a_16, h_16 at 16 iterations is :\n",
      " 0.289898998133  0.492355274475 -2.130932575658 \n",
      "c_17, a_17, h_17 at 17 iterations is :\n",
      " 0.289898998133  0.492355274475 -2.130932575658 \n",
      "c_18, a_18, h_18 at 18 iterations is :\n",
      " 0.289898998133  0.492355274475 -2.130932575658 \n",
      "c_19, a_19, h_19 at 19 iterations is :\n",
      " 0.289898998133  0.492355274475 -2.130932575658 \n",
      "c_20, a_20, h_20 at 20 iterations is :\n",
      " 0.289898998133  0.492355274475 -2.130932575658 \n"
     ]
    }
   ],
   "source": [
    "x0 = -2.6;\n",
    "y0 = 2.8;\n",
    "x1 = 2.1;\n",
    "y1 = 1.7;\n",
    "ele = 5.19;\n",
    "\n",
    "c0 = 1;\n",
    "a0 = 0;\n",
    "h0 = 0;\n",
    "\n",
    "showSteps = true;\n",
    "lim = 20;\n",
    "\n",
    "catenaria(x0,y0,x1,y1,ele, c0, a0, h0, showSteps, lim);\n"
   ]
  },
  {
   "cell_type": "code",
   "execution_count": null,
   "metadata": {},
   "outputs": [],
   "source": [
    "# Assim podemos ver que a equação da catenária é:\n",
    "c = 0.2898989981\n",
    "a = 0.4923552745\n",
    "h = -2.1309325757"
   ]
  }
 ],
 "metadata": {
  "kernelspec": {
   "display_name": "Octave",
   "language": "octave",
   "name": "octave"
  },
  "language_info": {
   "file_extension": ".m",
   "help_links": [
    {
     "text": "GNU Octave",
     "url": "https://www.gnu.org/software/octave/support.html"
    },
    {
     "text": "Octave Kernel",
     "url": "https://github.com/Calysto/octave_kernel"
    },
    {
     "text": "MetaKernel Magics",
     "url": "https://metakernel.readthedocs.io/en/latest/source/README.html"
    }
   ],
   "mimetype": "text/x-octave",
   "name": "octave",
   "version": "7.2.0"
  },
  "orig_nbformat": 4
 },
 "nbformat": 4,
 "nbformat_minor": 2
}
