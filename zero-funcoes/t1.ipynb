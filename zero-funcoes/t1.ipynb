{
 "cells": [
  {
   "attachments": {},
   "cell_type": "markdown",
   "metadata": {},
   "source": [
    "# T1.3 (Correto)\n",
    "\n",
    "Abaixo vemos o gráfico de uma função que possui dois pontos fixos $A$ e $B$.\n",
    "\n",
    "Determine qual deles é atratar e qual deles é repulsor.\n",
    "\n",
    "<img src=\"./atrator_repulsor.png\" width=\"400px\" />"
   ]
  },
  {
   "attachments": {},
   "cell_type": "markdown",
   "metadata": {},
   "source": [
    "## Resolução\n",
    "\n",
    "A questão basicamente pede para analisarmos o gráfico e tirar conclusões em relação aos pontos fixos de $\\Phi(x)$.\n",
    "\n",
    "Analisando com o método:\n",
    "\n",
    "- Escolhe um $x_0$ menor e maior que o ponto.\n",
    "- Faz as iterações \"Bate na função, bate na identidade, bate na função, bate na identidade...\".\n",
    "- Verifica se está se aproximando ou não do ponto $x^*$.\n",
    "\n",
    "No nosso caso $A$ é atrator e $B$ é repulsor.\n"
   ]
  }
 ],
 "metadata": {
  "kernelspec": {
   "display_name": "Octave",
   "language": "octave",
   "name": "octave"
  },
  "language_info": {
   "name": "octave",
   "version": "3.10.7 (main, Nov 24 2022, 19:45:47) [GCC 12.2.0]"
  },
  "orig_nbformat": 4,
  "vscode": {
   "interpreter": {
    "hash": "e7370f93d1d0cde622a1f8e1c04877d8463912d04d973331ad4851f04de6915a"
   }
  }
 },
 "nbformat": 4,
 "nbformat_minor": 2
}
