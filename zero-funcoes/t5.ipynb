{
 "cells": [
  {
   "attachments": {},
   "cell_type": "markdown",
   "metadata": {},
   "source": [
    "# T3.5 (Correto)\n",
    "\n",
    "Considere o cálculo numérico do zero da função $f(x)=sen(x)$ com quatro casas decimais exatas a partir do chute inicial $x_0=1$ e da função de iteração $φ(x)=x+sen(x)$ . Observe que serão necessárias seis iterações para garantir oito casas decimais exatas em duas iterações consecutivas:\n",
    "\n",
    "- $x0=1$\n",
    "- $x1=x0+sen(x0)=1,8414709848078965066525023216303…$\n",
    "- $x2=x1+sen(x1)=2,8050617093497299136094750235092…$\n",
    "- $x3=x2+sen(x2)=3,1352763328997160003524035699575…$\n",
    "- $x4=x3+sen(x3)=3,1415926115906531496011613183596…$\n",
    "- $x5=x4+sen(x4)=3,1415926535897932384626310360379…$\n",
    "- $x6=x5+sen(x5)=3,1415926535897932384626433832795…$\n",
    "\n",
    "Determine o número de iterações necessárias para garantir oito casas decimais exatas em duas iterações consecutivas a partir do mesmo chute inicial $x_0=1$ e da função de iteração $φ(x)=x+a⋅sen(x)$ com $a=−0.83$.\n",
    "\n",
    "Quantas iteraçoes?"
   ]
  },
  {
   "attachments": {},
   "cell_type": "markdown",
   "metadata": {},
   "source": [
    "## Resolução \n",
    "\n",
    "Como as questões anteriores, faremos iterações em uma função auxiliar para encontrar o zero da função $f$.\n",
    "\n",
    "1. Testaremos o exemplo do professor."
   ]
  },
  {
   "cell_type": "code",
   "execution_count": 3,
   "metadata": {},
   "outputs": [
    {
     "name": "stdout",
     "output_type": "stream",
     "text": [
      "x_1 at 0 iterations is :\n",
      " 1.841470984807896504875657 \n",
      "x_2 at 1 iterations is :\n",
      " 2.805061709349729870410783 \n",
      "x_3 at 2 iterations is :\n",
      " 3.135276332899715967528209 \n",
      "x_4 at 3 iterations is :\n",
      " 3.141592611590652950326330 \n",
      "x_5 at 4 iterations is :\n",
      " 3.141592653589793115997963 \n",
      "x_6 at 5 iterations is :\n",
      " 3.141592653589793115997963 \n"
     ]
    }
   ],
   "source": [
    "y = @(x) x + sin(x);\n",
    "x0 = 1;\n",
    "showSteps = true;\n",
    "\n",
    "[x] = metodoIterativo(y, x0, 6, showSteps);"
   ]
  },
  {
   "attachments": {},
   "cell_type": "markdown",
   "metadata": {},
   "source": [
    "2. Resolvendo o $f$ proposto:"
   ]
  },
  {
   "cell_type": "code",
   "execution_count": 4,
   "metadata": {},
   "outputs": [
    {
     "name": "stdout",
     "output_type": "stream",
     "text": [
      "x_1 at 0 iterations is :\n",
      " 0.301579082609445880969190 \n",
      "x_2 at 1 iterations is :\n",
      " 0.055045516560100926639620 \n",
      "x_3 at 2 iterations is :\n",
      " 0.009380806715976942877777 \n",
      "x_4 at 3 iterations is :\n",
      " 0.001594851336296831088857 \n",
      "x_5 at 4 iterations is :\n",
      " 0.000271125288331365826150 \n",
      "x_6 at 5 iterations is :\n",
      " 0.000046091301773333186219 \n",
      "x_7 at 6 iterations is :\n",
      " 0.000007835521315011790818 \n",
      "x_8 at 7 iterations is :\n",
      " 0.000001332038623618551040 \n",
      "x_9 at 8 iterations is :\n",
      " 0.000000226446566015480589 \n",
      "x_10 at 9 iterations is :\n",
      " 0.000000038495916222633308 \n",
      "x_11 at 10 iterations is :\n",
      " 0.000000006544305757847667 \n",
      "x_12 at 11 iterations is :\n",
      " 0.000000001112531978834104 \n",
      "x_13 at 12 iterations is :\n",
      " 0.000000000189130436401798 \n",
      "x_14 at 13 iterations is :\n",
      " 0.000000000032152174188306 \n",
      "x_15 at 14 iterations is :\n",
      " 0.000000000005465869612012 \n",
      "x_16 at 15 iterations is :\n",
      " 0.000000000000929197834042 \n",
      "x_17 at 16 iterations is :\n",
      " 0.000000000000157963631787 \n",
      "x_18 at 17 iterations is :\n",
      " 0.000000000000026853817404 \n",
      "x_19 at 18 iterations is :\n",
      " 0.000000000000004565148959 \n",
      "x_20 at 19 iterations is :\n",
      " 0.000000000000000776075323 \n"
     ]
    }
   ],
   "source": [
    "y = @(x) x + -0.83*sin(x);\n",
    "x0 = 1;\n",
    "showSteps = true;\n",
    "\n",
    "[x] = metodoIterativo(y, x0, 20, showSteps);"
   ]
  },
  {
   "attachments": {},
   "cell_type": "markdown",
   "metadata": {},
   "source": [
    "Como podemos ver na saída da rotina:\n",
    "\n",
    "\n",
    "...\n",
    "\n",
    "x_11 at 10 iterations is :\n",
    " 0.000000006544305757847667\n",
    " \n",
    "x_12 at 11 iterations is :\n",
    " 0.000000001112531978834104 \n",
    " \n",
    "...\n",
    "\n",
    "\n",
    "São necessárias 12 iterações para garantir 8 casas decimais exatas na aproximação. "
   ]
  }
 ],
 "metadata": {
  "kernelspec": {
   "display_name": "Octave",
   "language": "octave",
   "name": "octave"
  },
  "language_info": {
   "file_extension": ".m",
   "help_links": [
    {
     "text": "GNU Octave",
     "url": "https://www.gnu.org/software/octave/support.html"
    },
    {
     "text": "Octave Kernel",
     "url": "https://github.com/Calysto/octave_kernel"
    },
    {
     "text": "MetaKernel Magics",
     "url": "https://metakernel.readthedocs.io/en/latest/source/README.html"
    }
   ],
   "mimetype": "text/x-octave",
   "name": "octave",
   "version": "7.2.0"
  },
  "orig_nbformat": 4
 },
 "nbformat": 4,
 "nbformat_minor": 2
}
