{
 "cells": [
  {
   "attachments": {},
   "cell_type": "markdown",
   "metadata": {},
   "source": [
    "# T3.6 (Correto)\n",
    "\n",
    "Considere o problema de encontrar o zero $x^∗∈[1,π2]$ da função  \n",
    "\n",
    "$$\n",
    "f(x)=e^{−x²}−cos(x)\n",
    "$$\n",
    "\n",
    "utilizando como função de iteração $φ(x)=x+αf(x)$ para uma boa escolha de α.\n"
   ]
  },
  {
   "attachments": {},
   "cell_type": "markdown",
   "metadata": {},
   "source": [
    "## Resolução\n",
    "\n",
    "Esta questão oferece um passo a passo para resolver o zero da função no intervalo utilizando o método da Bisseção:"
   ]
  },
  {
   "attachments": {},
   "cell_type": "markdown",
   "metadata": {},
   "source": [
    "\n",
    "#### **a) Calcule $f(1)$ e $f(\\frac{\\pi}{2})$ (com exatamente três algarismos significativos) e observe que  $f(1)⋅f(\\frac{\\pi}{2})<0$.**\n",
    "\n",
    "$f(1)$= ?\n",
    "\n",
    "$f(\\frac{π}{2})$= ?\n",
    "\n"
   ]
  },
  {
   "cell_type": "code",
   "execution_count": 6,
   "metadata": {},
   "outputs": [
    {
     "name": "stdout",
     "output_type": "stream",
     "text": [
      "\u001b[?2004l\n",
      "\u001b[?2004h\u001b[?2004l\n",
      "\u001b[?2004h\u001b[?2004l\n",
      "\u001b[?2004h\u001b[?2004l\n",
      "\u001b[?2004h\u001b[?2004l\n",
      "\u001b[?2004h\u001b[?2004l\n",
      "\u001b[?2004h\u001b[?2004l\n",
      "ans = 1\n",
      "\u001b[?2004h"
     ]
    }
   ],
   "source": [
    "f = @(x) e^(-x^2) - cos(x); % function to be solved\n",
    "I = [1, pi/2]; % interval\n",
    "\n",
    "f1 = f(1);\n",
    "fpi2 = f(pi/2);\n",
    "\n",
    "f1 * fpi2 < 0"
   ]
  },
  {
   "attachments": {},
   "cell_type": "markdown",
   "metadata": {},
   "source": [
    "Como $f(1) \\cdot f(\\frac{\\pi}{2}) < 0$, existe uma raíz no intervalo $I$."
   ]
  },
  {
   "attachments": {},
   "cell_type": "markdown",
   "metadata": {},
   "source": [
    "#### **b) Calcule o maior valor m e o menor valor de M (com exatamente três algarismos significativos) tais que:**\n",
    "\n",
    "\n",
    "$m < f′(x) < M$ para todo $x∈[1,\\frac{π}{2}]$.\n",
    "\n",
    "\n",
    "$m$= ?\n",
    "\n",
    "$M$= ?\n",
    "\n",
    "Neste item você deve usar o fato de que $f′′(x)>0$ no intervalo $[1,\\frac{π}{2}]$ e, portanto, $f′(x)$ é uma função crescente nesse intervalo.\n",
    "\n"
   ]
  },
  {
   "cell_type": "code",
   "execution_count": 2,
   "metadata": {},
   "outputs": [
    {
     "name": "stdout",
     "output_type": "stream",
     "text": [
      "\u001b[?2004l\n",
      "\u001b[?2004h\u001b[?2004l\n",
      "\u001b[?2004h\u001b[?2004l\n",
      "\u001b[?2004h\u001b[?2004l\n",
      "f^(2)(1) = 0.195457, f^(2)(pi/2) = 0.667382, f^(2)(x) > 0 = 1\n",
      "\u001b[?2004h\u001b[?2004l\n",
      "\u001b[?2004h\u001b[?2004l\n",
      "\u001b[?2004h\u001b[?2004l\n",
      "\u001b[?2004h\u001b[?2004l\n",
      "m = 0.1057\n",
      "\u001b[?2004h\u001b[?2004l\n",
      "M = 0.7336\n",
      "\u001b[?2004h"
     ]
    }
   ],
   "source": [
    "fd = @(x) -2*x*e^(-x^2) + sin(x); % derivative of f\n",
    "fdd = @(x) 4*x^2*e^(-x^2) - 2*e^(-x^2) - cos(x); % second derivative of f\n",
    "\n",
    "fprintf(\"f^(2)(1) = %f, f^(2)(pi/2) = %f, f^(2)(x) > 0 = %d\\n\", fdd(1), fdd(pi/2), fdd(1) < fdd(pi/2));\n",
    "\n",
    "% Como a derivada segunda é sempre positiva no intervalo I, podemos dizer que \n",
    "% f é convexa no intervalo I.\n",
    "m = fd(1)\n",
    "M = fd(pi/2)"
   ]
  },
  {
   "attachments": {},
   "cell_type": "markdown",
   "metadata": {},
   "source": [
    "#### **c) Use o item anterior para escolher α (com exatamente três algarismos significativos e  maior valor absoluto possível) tal que:** \n",
    "\n",
    "$−1< φ′(x) <1$ para todo $x∈[1,\\frac{π}{2}]$\n",
    "\n",
    "$α$ = ?\n"
   ]
  },
  {
   "attachments": {},
   "cell_type": "markdown",
   "metadata": {},
   "source": [
    "R. Devemos escolher um intervalo [a,b] em (1, pi/2) tal que f(a)*f(b) < 0."
   ]
  },
  {
   "cell_type": "code",
   "execution_count": 32,
   "metadata": {},
   "outputs": [
    {
     "name": "stdout",
     "output_type": "stream",
     "text": [
      "\u001b[?2004l\n",
      "\u001b[?2004h\u001b[?2004l\n",
      "\u001b[?2004h\u001b[?2004l\n",
      "ans = 1\n",
      "\u001b[?2004h\u001b[?2004l\n",
      "ans = 1\n",
      "\u001b[?2004h\u001b[?2004l\n",
      "ans = 1\n",
      "\u001b[?2004h"
     ]
    }
   ],
   "source": [
    "a = 1.25;\n",
    "b = 20*pi/43;\n",
    "f(a) * f(b) < 0\n",
    "b < pi/2\n",
    "a > 1"
   ]
  },
  {
   "attachments": {},
   "cell_type": "markdown",
   "metadata": {},
   "source": [
    "Como $f'(x) > 0$ em $[a,b]$, $\\alpha \\cdot M > -2$ e $\\alpha < 0$, como queremos o maior valor absoluto, $\\alpha \\cdot M = -2$:"
   ]
  },
  {
   "cell_type": "code",
   "execution_count": 35,
   "metadata": {},
   "outputs": [
    {
     "name": "stdout",
     "output_type": "stream",
     "text": [
      "\u001b[?2004l\n",
      "alpha = -2.7264\n",
      "\u001b[?2004h"
     ]
    }
   ],
   "source": [
    "alpha = -2/M;"
   ]
  },
  {
   "cell_type": "code",
   "execution_count": 39,
   "metadata": {},
   "outputs": [
    {
     "name": "stdout",
     "output_type": "stream",
     "text": [
      "\u001b[?2004l\n",
      "\u001b[?2004h\u001b[?2004l\n",
      "\u001b[?2004h\u001b[?2004l\n",
      "\u001b[?2004h\u001b[?2004l\n",
      "\u001b[?2004h\u001b[?2004l\n",
      "\u001b[?2004h\u001b[?2004l\n",
      "\u001b[?2004h\u001b[?2004l\n",
      "\u001b[?2004h\u001b[?2004l\n",
      "-2 < alpha*fd(x) < 0 ? (1-verdade, 0-falso) 1 1\n",
      "\u001b[?2004h\u001b[?2004l\n",
      "-2 < alpha*fd(x) < 0 ? (1-verdade, 0-falso) 1 1\n",
      "\u001b[?2004h"
     ]
    }
   ],
   "source": [
    "# Como encontrou??????\n",
    "% alpha = -2.72; % alpha = -M/(M-m) > 0\n",
    "\n",
    "phi = @(x) x + alpha*f(x); % phi function\n",
    "phid = @(x) 1 + alpha*fd(x); % derivative of phi\n",
    "\n",
    "% -2 < alpha*fd(x) < 0\n",
    "fprintf(\"-2 < alpha*fd(x) < 0 ? (1-verdade, 0-falso) %d %d\\n\", -2 < (alpha)*fd(1), (alpha)*fd(1) < 0);\n",
    "fprintf(\"-2 < alpha*fd(x) < 0 ? (1-verdade, 0-falso) %d %d\\n\", -2 < (alpha)*fd(pi/2), (alpha)*fd(pi/2) < 0);"
   ]
  },
  {
   "attachments": {},
   "cell_type": "markdown",
   "metadata": {},
   "source": [
    "#### **d) Faça iterações com a função  $φ(x)=x+αf(x)$, em que α é o valor encontrado no item anterior, para calcular numericamente a raiz $x^∗$ de $f(x)=e−x^2−cos(x)$ no intervalo $[1,\\frac{π}{2}]$. Comece as iterações em $x_0=\\frac{\\pi}{2}$ e utilize como critério de parada duas iterações consecutivas coincidindo seus algarismos até a quarta casa decimal.**\n",
    "\n",
    "$x^∗$ = ?\n",
    "\n",
    "número de iterações realizadas: ? iterações\n",
    "\n",
    "Se você calcular o valor de $f′(x^∗)$ irá obter um valor próximo de $0.63612$. Como vimos na teoria, a escolha de $α$ deve ser feita entre $0$ e  $\\frac{−2}{f′(x^∗)}$, que no caso é o intervalo\n",
    "$$\n",
    "−3.144<α<0\n",
    "$$\n"
   ]
  },
  {
   "cell_type": "code",
   "execution_count": 41,
   "metadata": {},
   "outputs": [
    {
     "name": "stdout",
     "output_type": "stream",
     "text": [
      "\u001b[?2004l\n",
      "\u001b[?2004h\u001b[?2004l\n",
      "\u001b[?2004h\u001b[?2004l\n",
      "\u001b[?2004h\u001b[?2004l\n",
      "x_1 at 0 iterations is :\n",
      " 1.340126801673467094033754 \n",
      "x_2 at 1 iterations is :\n",
      " 1.510556493099667996204971 \n",
      "x_3 at 2 iterations is :\n",
      " 1.396591751449498541859384 \n",
      "x_4 at 3 iterations is :\n",
      " 1.481231019363006051747789 \n",
      "x_5 at 4 iterations is :\n",
      " 1.421338482093946975481913 \n",
      "x_6 at 5 iterations is :\n",
      " 1.465602442907145697148508 \n",
      "x_7 at 6 iterations is :\n",
      " 1.433728170017859460116938 \n",
      "x_8 at 7 iterations is :\n",
      " 1.457175509109572608679173 \n",
      "x_9 at 8 iterations is :\n",
      " 1.440168882349763368466711 \n",
      "x_10 at 9 iterations is :\n",
      " 1.452640300006789120246253 \n",
      "x_11 at 10 iterations is :\n",
      " 1.443564171329458689641001 \n",
      "x_12 at 11 iterations is :\n",
      " 1.450207578828230259304632 \n",
      "x_13 at 12 iterations is :\n",
      " 1.445364744641155496651663 \n",
      "x_14 at 13 iterations is :\n",
      " 1.448905811350239325463463 \n",
      "x_15 at 14 iterations is :\n",
      " 1.446322278701846819615184 \n",
      "x_16 at 15 iterations is :\n",
      " 1.448210261641128981935367 \n",
      "x_17 at 16 iterations is :\n",
      " 1.446832190315312072215193 \n",
      "x_18 at 17 iterations is :\n",
      " 1.447838936857286151749236 \n",
      "x_19 at 18 iterations is :\n",
      " 1.447103922268015541163777 \n",
      "x_20 at 19 iterations is :\n",
      " 1.447640795130121338374352 \n",
      "x_21 at 20 iterations is :\n",
      " 1.447248781262819417037235 \n",
      "x_22 at 21 iterations is :\n",
      " 1.447535092134582868084181 \n",
      "x_23 at 22 iterations is :\n",
      " 1.447326019779369588036388 \n",
      "x_24 at 23 iterations is :\n",
      " 1.447478710318141237323175 \n",
      "x_25 at 24 iterations is :\n",
      " 1.447367207401027089375134 \n",
      "x_26 at 25 iterations is :\n",
      " 1.447448638554874156270103 \n",
      "x_27 at 26 iterations is :\n",
      " 1.447389171989096334769442 \n",
      "x_28 at 27 iterations is :\n",
      " 1.447432600132538826898099 \n",
      "x_29 at 28 iterations is :\n",
      " 1.447400885631179079382491 \n",
      "x_30 at 29 iterations is :\n",
      " 1.447424046407699282923431 \n",
      "x_31 at 30 iterations is :\n",
      " 1.447407132573800714325785 \n",
      "x_32 at 31 iterations is :\n",
      " 1.447419484525805266628140 \n",
      "x_33 at 32 iterations is :\n",
      " 1.447410464126172913168489 \n",
      "x_34 at 33 iterations is :\n",
      " 1.447417051592511549884534 \n",
      "x_35 at 34 iterations is :\n",
      " 1.447412240881683187510021 \n",
      "x_36 at 35 iterations is :\n",
      " 1.447415754069764082245797 \n",
      "x_37 at 36 iterations is :\n",
      " 1.447413188448207321812333 \n",
      "x_38 at 37 iterations is :\n",
      " 1.447415062081036207786156 \n",
      "x_39 at 38 iterations is :\n",
      " 1.447413693798228040421350 \n",
      "x_40 at 39 iterations is :\n",
      " 1.447414693033197918836663 \n",
      "\u001b[?2004h"
     ]
    }
   ],
   "source": [
    "x0 = pi/2; % initial value\n",
    "showSteps = true; % show steps\n",
    "\n",
    "[x] = metodoIterativo(phi, x0, 40, showSteps);"
   ]
  },
  {
   "cell_type": "code",
   "execution_count": 43,
   "metadata": {},
   "outputs": [
    {
     "name": "stdout",
     "output_type": "stream",
     "text": [
      "\u001b[?2004l\n",
      "ans = -4.5412e-06\n",
      "\u001b[?2004h\u001b[?2004l\n",
      "ans = 0.6361\n",
      "\u001b[?2004h"
     ]
    }
   ],
   "source": [
    "f(x(31))\n",
    "fd(x(31))"
   ]
  },
  {
   "attachments": {},
   "cell_type": "markdown",
   "metadata": {},
   "source": [
    "#### **e) Determine, para cada valor de $α$ abaixo, a quantidade de iterações necessárias na função  $φ(x)=x+αf(x)$ para se calcular numericamente a raiz $x^∗$ de $f(x)=e−x^2−cos(x)$ no intervalo $[1,\\frac{π}{2}]$, começando em $x_0=\\frac{π}{2}$ e utilizando como critério de parada duas iterações consecutivas coincidindo seus algarismos até a quarta casa decimal.**\n",
    "\n",
    "- $α=−3.143$: são necessárias 10943 iterações;\n",
    "- $α=−3.1$: são necessárias 303 iterações;\n",
    "- $α=−3$: são necessárias ? iterações;\n",
    "- $α=−2.8$:  são necessárias ? iterações;\n",
    "- $α=−2.6$:  são necessárias ? iterações;\n",
    "- $α=−2.5$: são necessárias 19 iterações;\n",
    "- $α=−2.4$:  são necessárias ? iterações;\n",
    "- $α=−2.2$:  são necessárias ? iterações;\n",
    "- $α=−2$: são necessárias 9 iterações;\n",
    "- $α=−1.8$:  são necessárias ? iterações;\n",
    "- $α=−1.5$: são necessárias 4 iterações;\n",
    "- $α=−1.2$: são necessárias ? iterações;\n",
    "- $α=−1$: são necessárias 8 iterações;\n",
    "- $α=−0.8$: são necessárias ? iterações;\n",
    "- $α=−0.6$: são necessárias ? iterações;\n",
    "- $α=−0.5$: são necessárias 18 iterações;\n",
    "- $α=−0.3$:  são necessárias ? iterações;\n",
    "- $α=−0.2$: são necessárias ? iterações;\n",
    "- $α=−0.1$:  são necessárias ? iterações;\n",
    "- $α=−0.01$: são necessárias 331 iterações;"
   ]
  },
  {
   "cell_type": "code",
   "execution_count": 26,
   "metadata": {},
   "outputs": [],
   "source": [
    "a = -3;\n",
    "phi = @(x) x + a*f(x);\n",
    "\n",
    "% [x] = metodoIterativo(phi, x0, 100, showSteps);\n",
    "\n",
    "% São necessárias 93 iterações para a quarta cada decimal"
   ]
  },
  {
   "cell_type": "code",
   "execution_count": 29,
   "metadata": {},
   "outputs": [],
   "source": [
    "a = -2.8;\n",
    "phi = @(x) x + a*f(x);\n",
    "\n",
    "% [x] = metodoIterativo(phi, x0, 100, showSteps);\n",
    "\n",
    "% São necessárias 37 iterações para a quarta cada decimal"
   ]
  },
  {
   "cell_type": "code",
   "execution_count": 31,
   "metadata": {},
   "outputs": [],
   "source": [
    "a = -2.6;\n",
    "phi = @(x) x + a*f(x);\n",
    "\n",
    "% [x] = metodoIterativo(phi, x0, 100, showSteps);\n",
    "\n",
    "% São necessárias 23 iterações para a quarta cada decimal"
   ]
  },
  {
   "cell_type": "code",
   "execution_count": 33,
   "metadata": {},
   "outputs": [],
   "source": [
    "a = -2.4;\n",
    "phi = @(x) x + a*f(x);\n",
    "\n",
    "% [x] = metodoIterativo(phi, x0, 100, showSteps);\n",
    "\n",
    "% São necessárias 15 iterações para a quarta cada decimal"
   ]
  },
  {
   "cell_type": "code",
   "execution_count": 36,
   "metadata": {},
   "outputs": [],
   "source": [
    "a = -2.2;\n",
    "phi = @(x) x + a*f(x);\n",
    "\n",
    "% [x] = metodoIterativo(phi, x0, 100, showSteps);\n",
    "\n",
    "% São necessárias 11 iterações para a quarta cada decimal"
   ]
  },
  {
   "cell_type": "code",
   "execution_count": 39,
   "metadata": {},
   "outputs": [],
   "source": [
    "a = -1.8;\n",
    "phi = @(x) x + a*f(x);\n",
    "\n",
    "% [x] = metodoIterativo(phi, x0, 5, showSteps);\n",
    "\n",
    "% São necessárias 5 iterações para a quarta cada decimal"
   ]
  },
  {
   "cell_type": "code",
   "execution_count": 41,
   "metadata": {},
   "outputs": [],
   "source": [
    "a = -1.2;\n",
    "phi = @(x) x + a*f(x);\n",
    "\n",
    "% [x] = metodoIterativo(phi, x0, 100, showSteps);\n",
    "\n",
    "% São necessárias 6 iterações para a quarta cada decimal"
   ]
  },
  {
   "cell_type": "code",
   "execution_count": 43,
   "metadata": {},
   "outputs": [],
   "source": [
    "a = -0.8;\n",
    "phi = @(x) x + a*f(x);\n",
    "\n",
    "% [x] = metodoIterativo(phi, x0, 100, showSteps);\n",
    "\n",
    "% São necessárias 11 iterações para a quarta cada decimal"
   ]
  },
  {
   "cell_type": "code",
   "execution_count": 49,
   "metadata": {},
   "outputs": [],
   "source": [
    "a = -0.6;\n",
    "phi = @(x) x + a*f(x);\n",
    "\n",
    "% [x] = metodoIterativo(phi, x0, 100, showSteps);\n",
    "\n",
    "% São necessárias 16 iterações para a quarta cada decimal"
   ]
  },
  {
   "cell_type": "code",
   "execution_count": 47,
   "metadata": {},
   "outputs": [],
   "source": [
    "a = -0.3;\n",
    "phi = @(x) x + a*f(x);\n",
    "\n",
    "% [x] = metodoIterativo(phi, x0, 100, showSteps);\n",
    "\n",
    "% São necessárias 28 iterações para a quarta cada decimal"
   ]
  },
  {
   "cell_type": "code",
   "execution_count": 51,
   "metadata": {},
   "outputs": [],
   "source": [
    "a = -0.2;\n",
    "phi = @(x) x + a*f(x);\n",
    "\n",
    "% [x] = metodoIterativo(phi, x0, 100, showSteps);\n",
    "\n",
    "% São necessárias 40 iterações para a quarta cada decimal"
   ]
  },
  {
   "cell_type": "code",
   "execution_count": 60,
   "metadata": {},
   "outputs": [],
   "source": [
    "a = -0.1;\n",
    "phi = @(x) x + a*f(x);\n",
    "\n",
    "% [x] = metodoIterativo(phi, x0, 100, showSteps);\n",
    "\n",
    "% São necessárias 68 iterações para a quarta cada decimal"
   ]
  }
 ],
 "metadata": {
  "kernelspec": {
   "display_name": "Octave",
   "language": "octave",
   "name": "octave"
  },
  "language_info": {
   "file_extension": ".m",
   "help_links": [
    {
     "text": "GNU Octave",
     "url": "https://www.gnu.org/software/octave/support.html"
    },
    {
     "text": "Octave Kernel",
     "url": "https://github.com/Calysto/octave_kernel"
    },
    {
     "text": "MetaKernel Magics",
     "url": "https://metakernel.readthedocs.io/en/latest/source/README.html"
    }
   ],
   "mimetype": "text/x-octave",
   "name": "octave",
   "version": "7.2.0"
  },
  "orig_nbformat": 4
 },
 "nbformat": 4,
 "nbformat_minor": 2
}
