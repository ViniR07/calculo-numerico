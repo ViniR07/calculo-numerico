{
 "cells": [
  {
   "attachments": {},
   "cell_type": "markdown",
   "metadata": {},
   "source": [
    "# T3.6 (Corrigir letra c))\n",
    "\n",
    "Considere o problema de encontrar o zero $x^∗∈[1,π2]$ da função  \n",
    "\n",
    "$$\n",
    "f(x)=e^{−x²}−cos(x)\n",
    "$$\n",
    "\n",
    "utilizando como função de iteração $φ(x)=x+αf(x)$ para uma boa escolha de α.\n"
   ]
  },
  {
   "attachments": {},
   "cell_type": "markdown",
   "metadata": {},
   "source": [
    "## Resolução\n",
    "\n",
    "Esta questão oferece um passo a passo para resolver o zero da função no intervalo utilizando o método da Bisseção:"
   ]
  },
  {
   "attachments": {},
   "cell_type": "markdown",
   "metadata": {},
   "source": [
    "\n",
    "#### **a) Calcule $f(1)$ e $f(\\frac{\\pi}{2})$ (com exatamente três algarismos significativos) e observe que  $f(1)⋅f(\\frac{\\pi}{2})<0$.**\n",
    "\n",
    "$f(1)$= ?\n",
    "\n",
    "$f(\\frac{π}{2})$= ?\n",
    "\n"
   ]
  },
  {
   "cell_type": "code",
   "execution_count": 1,
   "metadata": {},
   "outputs": [
    {
     "name": "stdout",
     "output_type": "stream",
     "text": [
      "f1 = -0.1724\n",
      "fpi2 = 0.084805\n"
     ]
    }
   ],
   "source": [
    "f = @(x) e^(-x^2) - cos(x); % function to be solved\n",
    "I = [1, pi/2]; % interval\n",
    "\n",
    "f1 = f(1)\n",
    "fpi2 = f(pi/2)"
   ]
  },
  {
   "attachments": {},
   "cell_type": "markdown",
   "metadata": {},
   "source": [
    "Como $f(1) \\cdot f(\\frac{\\pi}{2}) < 0$, existe uma raíz no intervalo $I$."
   ]
  },
  {
   "attachments": {},
   "cell_type": "markdown",
   "metadata": {},
   "source": [
    "#### **b) Calcule o maior valor m e o menor valor de M (com exatamente três algarismos significativos) tais que:**\n",
    "\n",
    "\n",
    "$m < f′(x) < M$ para todo $x∈[1,\\frac{π}{2}]$.\n",
    "\n",
    "\n",
    "$m$= ?\n",
    "\n",
    "$M$= ?\n",
    "\n",
    "Neste item você deve usar o fato de que $f′′(x)>0$ no intervalo $[1,\\frac{π}{2}]$ e, portanto, $f′(x)$ é uma função crescente nesse intervalo.\n",
    "\n"
   ]
  },
  {
   "cell_type": "code",
   "execution_count": 6,
   "metadata": {},
   "outputs": [
    {
     "name": "stdout",
     "output_type": "stream",
     "text": [
      "f^(2)(1) = 0.195457, f^(2)(pi/2) = 0.667382, f^(2)(x) > 0 = 1\n",
      "m = 0.1057\n",
      "M = 0.7336\n"
     ]
    }
   ],
   "source": [
    "fd = @(x) -2*x*e^(-x^2) + sin(x); % derivative of f\n",
    "fdd = @(x) 4*x^2*e^(-x^2) - 2*e^(-x^2) - cos(x); % second derivative of f\n",
    "\n",
    "fprintf(\"f^(2)(1) = %f, f^(2)(pi/2) = %f, f^(2)(x) > 0 = %d\\n\", fdd(1), fdd(pi/2), fdd(1) < fdd(pi/2));\n",
    "\n",
    "% Como a derivada segunda é sempre positiva no intervalo I, podemos dizer que \n",
    "% f é convexa no intervalo I.\n",
    "m = fd(1)\n",
    "M = fd(pi/2)"
   ]
  },
  {
   "attachments": {},
   "cell_type": "markdown",
   "metadata": {},
   "source": [
    "#### **c) Use o item anterior para escolher α (com exatamente três algarismos significativos e  maior valor absoluto possível) tal que:** \n",
    "\n",
    "$−1< φ′(x) <1$ para todo $x∈[1,\\frac{π}{2}]$\n",
    "\n",
    "$α$ = ?\n"
   ]
  },
  {
   "cell_type": "code",
   "execution_count": 55,
   "metadata": {},
   "outputs": [
    {
     "name": "stdout",
     "output_type": "stream",
     "text": [
      "-2 < a*fd(x) < 0 ? 1 1\n",
      "-2 < a*fd(x) < 0 ? 0 1\n"
     ]
    }
   ],
   "source": [
    "# Como encontrou??????\n",
    "a = -2.72; % a = -M/(M-m) > 0\n",
    "\n",
    "phi = @(x) x + a*f(x); % phi function\n",
    "phid = @(x) 1 + a*fd(x); % derivative of phi\n",
    "\n",
    "% -2 < a*fd(x) < 0\n",
    "fprintf(\"-2 < a*fd(x) < 0 ? %d %d\\n\", -2 < (a)*fd(1), (a)*fd(1) < 0);\n",
    "fprintf(\"-2 < a*fd(x) < 0 ? %d %d\\n\", -2 < (a)*fd(pi/2), (a)*fd(pi/2) < 0);"
   ]
  },
  {
   "attachments": {},
   "cell_type": "markdown",
   "metadata": {},
   "source": [
    "#### **d) Faça iterações com a função  $φ(x)=x+αf(x)$, em que α é o valor encontrado no item anterior, para calcular numericamente a raiz $x^∗$ de $f(x)=e−x^2−cos(x)$ no intervalo $[1,\\frac{π}{2}]$. Comece as iterações em $x_0=\\frac{\\pi}{2}$ e utilize como critério de parada duas iterações consecutivas coincidindo seus algarismos até a quarta casa decimal.**\n",
    "\n",
    "$x^∗$ = ?\n",
    "\n",
    "número de iterações realizadas: ? iterações\n",
    "\n",
    "Se você calcular o valor de $f′(x^∗)$ irá obter um valor próximo de $0.63612$. Como vimos na teoria, a escolha de $α$ deve ser feita entre $0$ e  $\\frac{−2}{f′(x^∗)}$, que no caso é o intervalo\n",
    "$$\n",
    "−3.144<α<0\n",
    "$$\n"
   ]
  },
  {
   "cell_type": "code",
   "execution_count": 58,
   "metadata": {},
   "outputs": [
    {
     "name": "stdout",
     "output_type": "stream",
     "text": [
      "x_1 at 0 iterations is :\n",
      " 1.339278751948755896705734 \n",
      "x_2 at 1 iterations is :\n",
      " 1.511557913267786990019204 \n",
      "x_3 at 2 iterations is :\n",
      " 1.395287485825832618502318 \n",
      "x_4 at 3 iterations is :\n",
      " 1.482328032294692787829149 \n",
      "x_5 at 4 iterations is :\n",
      " 1.420220003935680042062017 \n",
      "x_6 at 5 iterations is :\n",
      " 1.466513262591045307914328 \n",
      "x_7 at 6 iterations is :\n",
      " 1.432898731195228148038723 \n",
      "x_8 at 7 iterations is :\n",
      " 1.457843302629308279705356 \n",
      "x_9 at 8 iterations is :\n",
      " 1.439597887262216824311167 \n",
      "x_10 at 9 iterations is :\n",
      " 1.453096028123101346452017 \n",
      "x_11 at 10 iterations is :\n",
      " 1.443188964644881666643528 \n",
      "x_12 at 11 iterations is :\n",
      " 1.450504625475064868211916 \n",
      "x_13 at 12 iterations is :\n",
      " 1.445125961871830178040454 \n",
      "x_14 at 13 iterations is :\n",
      " 1.449093441141537041971787 \n",
      "x_15 at 14 iterations is :\n",
      " 1.446173827492949426343216 \n",
      "x_16 at 15 iterations is :\n",
      " 1.448326128817688074335024 \n",
      "x_17 at 16 iterations is :\n",
      " 1.446741525780900872177881 \n",
      "x_18 at 17 iterations is :\n",
      " 1.447909284573126065254201 \n",
      "x_19 at 18 iterations is :\n",
      " 1.447049318541687723538303 \n",
      "x_20 at 19 iterations is :\n",
      " 1.447682946759653033197424 \n",
      "x_21 at 20 iterations is :\n",
      " 1.447216263375613376496176 \n",
      "x_22 at 21 iterations is :\n",
      " 1.447560084230784749337317 \n",
      "x_23 at 22 iterations is :\n",
      " 1.447306832567408996226277 \n",
      "x_24 at 23 iterations is :\n",
      " 1.447493401189087425251500 \n",
      "x_25 at 24 iterations is :\n",
      " 1.447355972892229170057021 \n",
      "x_26 at 25 iterations is :\n",
      " 1.447457212311499041845764 \n",
      "x_27 at 26 iterations is :\n",
      " 1.447382636725175419911693 \n",
      "x_28 at 27 iterations is :\n",
      " 1.447437573504774865895683 \n",
      "x_29 at 28 iterations is :\n",
      " 1.447397105167168795958332 \n",
      "x_30 at 29 iterations is :\n",
      " 1.447426916274407115992062 \n",
      "x_31 at 30 iterations is :\n",
      " 1.447404956237797968299219 \n",
      "x_32 at 31 iterations is :\n",
      " 1.447421133080078581301109 \n",
      "x_33 at 32 iterations is :\n",
      " 1.447409216538962928311207 \n",
      "x_34 at 33 iterations is :\n",
      " 1.447417994826337039881992 \n",
      "x_35 at 34 iterations is :\n",
      " 1.447411528359139776256370 \n",
      "x_36 at 35 iterations is :\n",
      " 1.447416291857864134584588 \n",
      "x_37 at 36 iterations is :\n",
      " 1.447412782854513357833071 \n",
      "x_38 at 37 iterations is :\n",
      " 1.447415367746674563775855 \n",
      "x_39 at 38 iterations is :\n",
      " 1.447413463599990901542469 \n",
      "x_40 at 39 iterations is :\n",
      " 1.447414866280845924251253 \n"
     ]
    }
   ],
   "source": [
    "x0 = pi/2; % initial value\n",
    "showSteps = true; % show steps\n",
    "\n",
    "[x] = metodoIterativo(phi, x0, 40, showSteps);"
   ]
  },
  {
   "cell_type": "code",
   "execution_count": 21,
   "metadata": {},
   "outputs": [
    {
     "name": "stdout",
     "output_type": "stream",
     "text": [
      "ans = 0.6361\n"
     ]
    }
   ],
   "source": [
    "fd(x(8))"
   ]
  },
  {
   "attachments": {},
   "cell_type": "markdown",
   "metadata": {},
   "source": [
    "#### **e) Determine, para cada valor de $α$ abaixo, a quantidade de iterações necessárias na função  $φ(x)=x+αf(x)$ para se calcular numericamente a raiz $x^∗$ de $f(x)=e−x^2−cos(x)$ no intervalo $[1,\\frac{π}{2}]$, começando em $x_0=\\frac{π}{2}$ e utilizando como critério de parada duas iterações consecutivas coincidindo seus algarismos até a quarta casa decimal.**\n",
    "\n",
    "- $α=−3.143$: são necessárias 10943 iterações;\n",
    "- $α=−3.1$: são necessárias 303 iterações;\n",
    "- $α=−3$: são necessárias ? iterações;\n",
    "- $α=−2.8$:  são necessárias ? iterações;\n",
    "- $α=−2.6$:  são necessárias ? iterações;\n",
    "- $α=−2.5$: são necessárias 19 iterações;\n",
    "- $α=−2.4$:  são necessárias ? iterações;\n",
    "- $α=−2.2$:  são necessárias ? iterações;\n",
    "- $α=−2$: são necessárias 9 iterações;\n",
    "- $α=−1.8$:  são necessárias ? iterações;\n",
    "- $α=−1.5$: são necessárias 4 iterações;\n",
    "- $α=−1.2$: são necessárias ? iterações;\n",
    "- $α=−1$: são necessárias 8 iterações;\n",
    "- $α=−0.8$: são necessárias ? iterações;\n",
    "- $α=−0.6$: são necessárias ? iterações;\n",
    "- $α=−0.5$: são necessárias 18 iterações;\n",
    "- $α=−0.3$:  são necessárias ? iterações;\n",
    "- $α=−0.2$: são necessárias ? iterações;\n",
    "- $α=−0.1$:  são necessárias ? iterações;\n",
    "- $α=−0.01$: são necessárias 331 iterações;"
   ]
  },
  {
   "cell_type": "code",
   "execution_count": 26,
   "metadata": {},
   "outputs": [],
   "source": [
    "a = -3;\n",
    "phi = @(x) x + a*f(x);\n",
    "\n",
    "% [x] = metodoIterativo(phi, x0, 100, showSteps);\n",
    "\n",
    "% São necessárias 93 iterações para a quarta cada decimal"
   ]
  },
  {
   "cell_type": "code",
   "execution_count": 29,
   "metadata": {},
   "outputs": [],
   "source": [
    "a = -2.8;\n",
    "phi = @(x) x + a*f(x);\n",
    "\n",
    "% [x] = metodoIterativo(phi, x0, 100, showSteps);\n",
    "\n",
    "% São necessárias 37 iterações para a quarta cada decimal"
   ]
  },
  {
   "cell_type": "code",
   "execution_count": 31,
   "metadata": {},
   "outputs": [],
   "source": [
    "a = -2.6;\n",
    "phi = @(x) x + a*f(x);\n",
    "\n",
    "% [x] = metodoIterativo(phi, x0, 100, showSteps);\n",
    "\n",
    "% São necessárias 23 iterações para a quarta cada decimal"
   ]
  },
  {
   "cell_type": "code",
   "execution_count": 33,
   "metadata": {},
   "outputs": [],
   "source": [
    "a = -2.4;\n",
    "phi = @(x) x + a*f(x);\n",
    "\n",
    "% [x] = metodoIterativo(phi, x0, 100, showSteps);\n",
    "\n",
    "% São necessárias 15 iterações para a quarta cada decimal"
   ]
  },
  {
   "cell_type": "code",
   "execution_count": 36,
   "metadata": {},
   "outputs": [],
   "source": [
    "a = -2.2;\n",
    "phi = @(x) x + a*f(x);\n",
    "\n",
    "% [x] = metodoIterativo(phi, x0, 100, showSteps);\n",
    "\n",
    "% São necessárias 11 iterações para a quarta cada decimal"
   ]
  },
  {
   "cell_type": "code",
   "execution_count": 39,
   "metadata": {},
   "outputs": [],
   "source": [
    "a = -1.8;\n",
    "phi = @(x) x + a*f(x);\n",
    "\n",
    "% [x] = metodoIterativo(phi, x0, 5, showSteps);\n",
    "\n",
    "% São necessárias 5 iterações para a quarta cada decimal"
   ]
  },
  {
   "cell_type": "code",
   "execution_count": 41,
   "metadata": {},
   "outputs": [],
   "source": [
    "a = -1.2;\n",
    "phi = @(x) x + a*f(x);\n",
    "\n",
    "% [x] = metodoIterativo(phi, x0, 100, showSteps);\n",
    "\n",
    "% São necessárias 6 iterações para a quarta cada decimal"
   ]
  },
  {
   "cell_type": "code",
   "execution_count": 43,
   "metadata": {},
   "outputs": [],
   "source": [
    "a = -0.8;\n",
    "phi = @(x) x + a*f(x);\n",
    "\n",
    "% [x] = metodoIterativo(phi, x0, 100, showSteps);\n",
    "\n",
    "% São necessárias 11 iterações para a quarta cada decimal"
   ]
  },
  {
   "cell_type": "code",
   "execution_count": 49,
   "metadata": {},
   "outputs": [],
   "source": [
    "a = -0.6;\n",
    "phi = @(x) x + a*f(x);\n",
    "\n",
    "% [x] = metodoIterativo(phi, x0, 100, showSteps);\n",
    "\n",
    "% São necessárias 16 iterações para a quarta cada decimal"
   ]
  },
  {
   "cell_type": "code",
   "execution_count": 47,
   "metadata": {},
   "outputs": [],
   "source": [
    "a = -0.3;\n",
    "phi = @(x) x + a*f(x);\n",
    "\n",
    "% [x] = metodoIterativo(phi, x0, 100, showSteps);\n",
    "\n",
    "% São necessárias 28 iterações para a quarta cada decimal"
   ]
  },
  {
   "cell_type": "code",
   "execution_count": 51,
   "metadata": {},
   "outputs": [],
   "source": [
    "a = -0.2;\n",
    "phi = @(x) x + a*f(x);\n",
    "\n",
    "% [x] = metodoIterativo(phi, x0, 100, showSteps);\n",
    "\n",
    "% São necessárias 40 iterações para a quarta cada decimal"
   ]
  },
  {
   "cell_type": "code",
   "execution_count": 60,
   "metadata": {},
   "outputs": [],
   "source": [
    "a = -0.1;\n",
    "phi = @(x) x + a*f(x);\n",
    "\n",
    "% [x] = metodoIterativo(phi, x0, 100, showSteps);\n",
    "\n",
    "% São necessárias 68 iterações para a quarta cada decimal"
   ]
  }
 ],
 "metadata": {
  "kernelspec": {
   "display_name": "Octave",
   "language": "octave",
   "name": "octave"
  },
  "language_info": {
   "file_extension": ".m",
   "help_links": [
    {
     "text": "GNU Octave",
     "url": "https://www.gnu.org/software/octave/support.html"
    },
    {
     "text": "Octave Kernel",
     "url": "https://github.com/Calysto/octave_kernel"
    },
    {
     "text": "MetaKernel Magics",
     "url": "https://metakernel.readthedocs.io/en/latest/source/README.html"
    }
   ],
   "mimetype": "text/x-octave",
   "name": "octave",
   "version": "7.2.0"
  },
  "orig_nbformat": 4
 },
 "nbformat": 4,
 "nbformat_minor": 2
}
