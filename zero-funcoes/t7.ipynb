{
 "cells": [
  {
   "attachments": {},
   "cell_type": "markdown",
   "metadata": {},
   "source": [
    "# T3.7 (Correto)\n",
    "\n",
    "Determine quantas iterações são necessária pelo método de Newton para se resolver a equação:\n",
    "\n",
    "$$\n",
    "0.3x^4−x^3−x^2−2x+2=0\n",
    "$$\n",
    "\n",
    "iniciando em $x_0=0$ e tendo como critério de parada duas iterações consecutivas coincidindo até a décima sexta casa decimal. "
   ]
  },
  {
   "attachments": {},
   "cell_type": "markdown",
   "metadata": {},
   "source": [
    "### Resolução\n",
    "\n",
    "Consideramos o método iterativo de Newton:\n",
    "\n",
    "$$\n",
    "x_{k+1} = x_k - \\frac{f(x_k)}{f'(x_k)}\n",
    "$$\n",
    "\n",
    "Como já temos um palpite inicial $x_0=0$ começaremos as iterações:"
   ]
  },
  {
   "cell_type": "code",
   "execution_count": 1,
   "metadata": {},
   "outputs": [
    {
     "name": "stdout",
     "output_type": "stream",
     "text": [
      "\u001b[?2004l\n",
      "\n",
      "\n",
      "\n",
      "\u001b[?2004h\n",
      "\u001b[?2004l\n",
      "\n",
      "\n",
      "\n",
      "\u001b[?2004h\n",
      "\u001b[?2004l\n",
      "\n",
      "\n",
      "\n",
      "\u001b[?2004h\n",
      "\u001b[?2004l\n",
      "\u001b[?2004h\u001b[?2004l\n",
      "\u001b[?2004h\u001b[?2004l\n",
      "\u001b[?2004h\u001b[?2004l\n",
      "\u001b[?2004h\u001b[?2004l\n",
      "\u001b[?2004h\u001b[?2004l\n",
      "x_1 at 0 iterations is :\n",
      " 1.000000000000000000000000 \n",
      "x_2 at 1 iterations is :\n",
      " 0.706896551724137900407641 \n",
      "x_3 at 2 iterations is :\n",
      " 0.664164881545970087195485 \n",
      "x_4 at 3 iterations is :\n",
      " 0.663224647348457430062751 \n",
      "x_5 at 4 iterations is :\n",
      " 0.663224194975351233338756 \n",
      "x_6 at 5 iterations is :\n",
      " 0.663224194975246650329836 \n",
      "x_7 at 6 iterations is :\n",
      " 0.663224194975246539307534 \n",
      "x_8 at 7 iterations is :\n",
      " 0.663224194975246539307534 \n",
      "x_9 at 8 iterations is :\n",
      " 0.663224194975246539307534 \n",
      "x_10 at 9 iterations is :\n",
      " 0.663224194975246539307534 \n",
      "x_11 at 10 iterations is :\n",
      " 0.663224194975246539307534 \n",
      "x_12 at 11 iterations is :\n",
      " 0.663224194975246539307534 \n",
      "x_13 at 12 iterations is :\n",
      " 0.663224194975246539307534 \n",
      "x_14 at 13 iterations is :\n",
      " 0.663224194975246539307534 \n",
      "x_15 at 14 iterations is :\n",
      " 0.663224194975246539307534 \n",
      "x_16 at 15 iterations is :\n",
      " 0.663224194975246539307534 \n",
      "x_17 at 16 iterations is :\n",
      " 0.663224194975246539307534 \n",
      "x_18 at 17 iterations is :\n",
      " 0.663224194975246539307534 \n",
      "x_19 at 18 iterations is :\n",
      " 0.663224194975246539307534 \n",
      "x_20 at 19 iterations is :\n",
      " 0.663224194975246539307534 \n",
      "\u001b[?2004h"
     ]
    }
   ],
   "source": [
    "f = @(x) 0.3*power(x,4) - power(x,3) - x^2 -2*x + 2;\n",
    "fd = @(x) 1.2*power(x,3) - 3*power(x,2) - 2*x - 2;\n",
    "x0 = 0;\n",
    "showSteps = true;\n",
    "\n",
    "[x] = metodoNewton(f,fd,x0,20,showSteps);"
   ]
  },
  {
   "attachments": {},
   "cell_type": "markdown",
   "metadata": {},
   "source": [
    "Analisando as saídas do programa, temos que se igualam as 16 casas decimais na oitava iteração."
   ]
  }
 ],
 "metadata": {
  "kernelspec": {
   "display_name": "Octave",
   "language": "octave",
   "name": "octave"
  },
  "language_info": {
   "file_extension": ".m",
   "help_links": [
    {
     "text": "GNU Octave",
     "url": "https://www.gnu.org/software/octave/support.html"
    },
    {
     "text": "Octave Kernel",
     "url": "https://github.com/Calysto/octave_kernel"
    },
    {
     "text": "MetaKernel Magics",
     "url": "https://metakernel.readthedocs.io/en/latest/source/README.html"
    }
   ],
   "mimetype": "text/x-octave",
   "name": "octave",
   "version": "7.2.0"
  },
  "orig_nbformat": 4,
  "vscode": {
   "interpreter": {
    "hash": "e7370f93d1d0cde622a1f8e1c04877d8463912d04d973331ad4851f04de6915a"
   }
  }
 },
 "nbformat": 4,
 "nbformat_minor": 2
}
