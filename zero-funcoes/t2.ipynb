{
 "cells": [
  {
   "attachments": {},
   "cell_type": "markdown",
   "metadata": {},
   "source": [
    "# T3.2 (Correto)\n",
    "\n",
    "Considere a função de iteração \n",
    "\n",
    "- $φ(x)=2x(1−x)$.\n",
    "\n",
    "Para cada valor inicial de x0 abaixo, determine a sequência de iterados $x_1$,$x_2$,$x_3$,$x_4$,$x_5$ e coloque como resposta o valor de $x_5$ com exatamente 10 algarismos significativos \n",
    "\n",
    "Exemplos: \n",
    "\n",
    "se $x_5=0.49960385918742867…$ coloque como resposta  $0.4996038592…$ \n",
    "se $x_5=−170.41094593583506…$ coloque como resposta  $−170.4109459…$"
   ]
  },
  {
   "attachments": {},
   "cell_type": "markdown",
   "metadata": {},
   "source": [
    "## Resolução\n",
    "\n",
    "A questão nos pede para iterar encima da função auxiliar. Tais iteradas vêm dos Métodos Iterativos para Determinar Zero de Funções.\n",
    "\n",
    "Os quais se baseiam em:\n",
    "\n",
    "- Um \"palpite\" inicial $x_0$;\n",
    "- Uma função auxiliar φ (\"função de iteração\": $x_{k+1} = φ(x_k)$);\n",
    "- Análise da convergência ($x_k \\rightarrow x^*$, quando $k \\rightarrow \\infty$);\n",
    "- Critério de parada.\n",
    "\n",
    "Logo, nossa iteração se baseia em $x_{k+1} = φ(x_k)$."
   ]
  },
  {
   "cell_type": "code",
   "execution_count": 9,
   "metadata": {},
   "outputs": [
    {
     "name": "stdout",
     "output_type": "stream",
     "text": [
      "\u001b[?2004l\n",
      "For information about changes from previous versions of the symbolic package, run 'news symbolic'.\n",
      "\u001b[?2004h\u001b[?2004l\n",
      "\u001b[?2004h"
     ]
    }
   ],
   "source": [
    "pkg -forge install symbolic #only once to install\n",
    "pkg load symbolic"
   ]
  },
  {
   "cell_type": "code",
   "execution_count": 12,
   "metadata": {},
   "outputs": [
    {
     "name": "stdout",
     "output_type": "stream",
     "text": [
      "\u001b[?2004l\n",
      "d = 32\n",
      "\u001b[?2004h\u001b[?2004l\n",
      "x =\n",
      "\n",
      "@(x) 2 * x * (1 - x)\n",
      "\n",
      "ans = function_handle\n",
      "error: conversion to vpa with those arguments not (yet) supported\n",
      "error: called from\n",
      "    vpa at line 180 column 5\n",
      "\u001b[?2004h\u001b[?2004l\n",
      "\u001b[?2004h\u001b[?2004l\n",
      "\u001b[?2004h\u001b[?2004l\n",
      "\u001b[?2004h\u001b[?2004l\n",
      "\u001b[?2004h\u001b[?2004l\n",
      "x_5 is :\n",
      " -2147483647.50000000 \n",
      "x_5 is :\n",
      " -73737798.06480344 \n",
      "x_5 is :\n",
      " -1701411.33460469 \n",
      "x_5 is :\n",
      " -23716.90370837 \n",
      "x_5 is :\n",
      " -170.41094594 \n",
      "x_5 is :\n",
      "  0.00000000 \n",
      "x_5 is :\n",
      "  0.49960386 \n",
      "x_5 is :\n",
      "  0.49999996 \n",
      "x_5 is :\n",
      "  0.50000000 \n",
      "x_5 is :\n",
      "  0.50000000 \n",
      "x_5 is :\n",
      "  0.50000000 \n",
      "x_5 is :\n",
      "  0.50000000 \n",
      "x_5 is :\n",
      "  0.50000000 \n",
      "x_5 is :\n",
      "  0.49999996 \n",
      "x_5 is :\n",
      "  0.49960386 \n",
      "x_5 is :\n",
      "  0.00000000 \n",
      "x_5 is :\n",
      " -170.41094594 \n",
      "x_5 is :\n",
      " -23716.90370837 \n",
      "x_5 is :\n",
      " -1701411.33460470 \n",
      "x_5 is :\n",
      " -73737798.06480312 \n",
      "\u001b[?2004h"
     ]
    }
   ],
   "source": [
    "d = digits(10)\n",
    "y = vpa(@(x) 2*x * (1 - x));\n",
    "x0 = [-0.5, -0.4, -0.3, -0.2, -0.1, 0, 0.1, 0.2, 0.3, 0.4, 0.5, 0.6, 0.7, 0.8, 0.9, 1, 1.1, 1.2, 1.3, 1.4];\n",
    "\n",
    "for i = 1:20\n",
    "    [x] = metodoIterativo(y, x0(i), 5);\n",
    "end"
   ]
  },
  {
   "attachments": {},
   "cell_type": "markdown",
   "metadata": {},
   "source": [
    "Assim, nossos $x_5$, são:\n",
    "\n",
    "$$\n",
    "\\begin{pmatrix}\n",
    "-2147483648\\\\\n",
    "-73737798,06\\\\\n",
    " -1701411,335\\\\\n",
    " -23716,90371\\\\\n",
    " -170,4109459\\\\\n",
    " 0\\\\\n",
    " 0,4996038592\\\\\n",
    "  0,4999999602\\\\\n",
    " 0,5\\\\\n",
    " 0,5\\\\\n",
    " 0,5\\\\\n",
    " 0,5\\\\\n",
    " 0,5\\\\\n",
    " 0,4999999602\\\\\n",
    "  0,4996038592\\\\\n",
    " 0\\\\\n",
    " -170,4109459\\\\\n",
    " -23716,90371\\\\\n",
    " -1701411,335\\\\\n",
    " -73737798,06 \n",
    "\\end{pmatrix}\n",
    "$$"
   ]
  }
 ],
 "metadata": {
  "kernelspec": {
   "display_name": "Octave",
   "language": "octave",
   "name": "octave"
  },
  "language_info": {
   "file_extension": ".m",
   "help_links": [
    {
     "text": "GNU Octave",
     "url": "https://www.gnu.org/software/octave/support.html"
    },
    {
     "text": "Octave Kernel",
     "url": "https://github.com/Calysto/octave_kernel"
    },
    {
     "text": "MetaKernel Magics",
     "url": "https://metakernel.readthedocs.io/en/latest/source/README.html"
    }
   ],
   "mimetype": "text/x-octave",
   "name": "octave",
   "version": "7.2.0"
  },
  "orig_nbformat": 4
 },
 "nbformat": 4,
 "nbformat_minor": 2
}
