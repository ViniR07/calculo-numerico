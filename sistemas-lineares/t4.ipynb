{
 "cells": [
  {
   "cell_type": "markdown",
   "metadata": {},
   "source": [
    "# Atividade T1.4 (Correto)\n",
    "\n",
    "Resolva o sistema linear correspondente à matriz abaixo\n",
    "\n",
    "$$\n",
    "\\begin{pmatrix}\n",
    "1.4 & −0.98 & 4.5\\\\\n",
    "−6.4 & 0.12 & -9.7\\\\\n",
    "\\end{pmatrix}\n",
    "$$\n",
    "\n",
    "com três algarismos significativos e condensação pivotal."
   ]
  },
  {
   "cell_type": "code",
   "execution_count": 1,
   "metadata": {},
   "outputs": [
    {
     "name": "stdout",
     "output_type": "stream",
     "text": [
      "A =\n",
      "\n",
      "   1.4000  -0.9800\n",
      "  -6.4000   0.1200\n",
      "\n",
      "b =\n",
      "\n",
      "   4.5000\n",
      "  -9.7000\n",
      "\n",
      "x =\n",
      "\n",
      "   1.4689\n",
      "  -2.4934\n",
      "\n",
      "A =\n",
      "\n",
      "  -6.4000   0.1200\n",
      "        0  -0.9537\n",
      "\n",
      "b =\n",
      "\n",
      "  -9.7000\n",
      "   2.3781\n",
      "\n"
     ]
    }
   ],
   "source": [
    "A = [1.4, -0.98; -6.4, 0.12]\n",
    "b = [4.5; -9.7]\n",
    "\n",
    "# Utilizando o método de Gauss com pivoteamento parcial \n",
    "[x, A, b] = gaussPivotP(A, b)"
   ]
  }
 ],
 "metadata": {
  "kernelspec": {
   "display_name": "Octave",
   "language": "octave",
   "name": "octave"
  },
  "language_info": {
   "file_extension": ".m",
   "help_links": [
    {
     "text": "GNU Octave",
     "url": "https://www.gnu.org/software/octave/support.html"
    },
    {
     "text": "Octave Kernel",
     "url": "https://github.com/Calysto/octave_kernel"
    },
    {
     "text": "MetaKernel Magics",
     "url": "https://metakernel.readthedocs.io/en/latest/source/README.html"
    }
   ],
   "mimetype": "text/x-octave",
   "name": "octave",
   "version": "6.4.0"
  },
  "orig_nbformat": 4
 },
 "nbformat": 4,
 "nbformat_minor": 2
}
