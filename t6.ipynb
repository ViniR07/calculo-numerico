{
 "cells": [
  {
   "cell_type": "markdown",
   "metadata": {},
   "source": [
    "# Atividade T1.6 (Correto)\n",
    "\n",
    "Dado o sistema linear A x=b em que\n",
    "\n",
    "$$\n",
    "A = \n",
    "\\begin{pmatrix}\n",
    "-6 & 2 & -1\\\\\n",
    "-1 & 9 & 1\\\\\n",
    "-2 & 2 & -9\n",
    "\\end{pmatrix}\n",
    "b =\n",
    "\\begin{pmatrix}\n",
    "1\\\\\n",
    "-8\\\\\n",
    "8\n",
    "\\end{pmatrix}\n",
    "$$\n",
    "\n",
    "resolva-o pelos métodos iterativos de Jacobi e de Gauss-Seidel, fazendo 5 iterações a partir da solução nula $x^{(0)}=(0,0,0)$, utilizando a máxima precisão nos cálculos dessas iterações. Depois de calcular essas 5 iterações para cada método, coloque os resultados obtidos arredondando-os para quatro algarismos significativos."
   ]
  },
  {
   "cell_type": "code",
   "execution_count": 50,
   "metadata": {},
   "outputs": [
    {
     "name": "stdout",
     "output_type": "stream",
     "text": [
      "A =\n",
      "\n",
      "  -6   2  -1\n",
      "  -1   9   1\n",
      "  -2   2  -9\n",
      "\n",
      "b =\n",
      "\n",
      "   1\n",
      "  -8\n",
      "   8\n",
      "\n",
      "Ab =\n",
      "\n",
      "  -6   2  -1   1\n",
      "  -1   9   1  -8\n",
      "  -2   2  -9   8\n",
      "\n",
      "g =\n",
      "\n",
      "   0\n",
      "   0\n",
      "   0\n",
      "\n"
     ]
    }
   ],
   "source": [
    "A = [-6 , 2, -1;\n",
    "-1, 9, 1;\n",
    "-2, 2, -9]\n",
    "b = [1; -8; 8]\n",
    "\n",
    "Ab = [-6 , 2, -1, 1;\n",
    "-1, 9, 1, -8;\n",
    "-2, 2, -9, 8]\n",
    "\n",
    "g = [0; 0; 0]\n",
    "\n",
    "output_precision(5)\n"
   ]
  },
  {
   "cell_type": "code",
   "execution_count": 62,
   "metadata": {},
   "outputs": [
    {
     "name": "stdout",
     "output_type": "stream",
     "text": [
      "x =\n",
      "\n",
      "  -0.1667\n",
      "  -0.8889\n",
      "  -0.8889\n",
      "\n",
      "x =\n",
      "\n",
      "  -0.3148\n",
      "  -0.8086\n",
      "  -1.0494\n",
      "\n",
      "x =\n",
      "\n",
      "  -0.2613\n",
      "  -0.8073\n",
      "  -0.9986\n",
      "\n",
      "x =\n",
      "\n",
      "  -0.2693\n",
      "  -0.8070\n",
      "  -1.0102\n",
      "\n",
      "x =\n",
      "\n",
      "  -0.2673\n",
      "  -0.8066\n",
      "  -1.0084\n",
      "\n"
     ]
    }
   ],
   "source": [
    "[x] = jacobinho(3, Ab, g, 0.000001, 1)\n",
    "[x] = jacobinho(3, Ab, g, 0.000001, 2)\n",
    "[x] = jacobinho(3, Ab, g, 0.000001, 3)\n",
    "[x] = jacobinho(3, Ab, g, 0.000001, 4)\n",
    "[x] = jacobinho(3, Ab, g, 0.000001, 5)\n"
   ]
  },
  {
   "cell_type": "code",
   "execution_count": 60,
   "metadata": {},
   "outputs": [
    {
     "name": "stdout",
     "output_type": "stream",
     "text": [
      "X =\n",
      "\n",
      "  -0.1667\n",
      "  -0.9074\n",
      "  -1.0535\n",
      "\n",
      "X =\n",
      "\n",
      "  -0.2936\n",
      "  -0.8045\n",
      "  -1.0024\n",
      "\n",
      "X =\n",
      "\n",
      "  -0.2677\n",
      "  -0.8073\n",
      "  -1.0088\n",
      "\n",
      "X =\n",
      "\n",
      "  -0.2676\n",
      "  -0.8065\n",
      "  -1.0086\n",
      "\n",
      "X =\n",
      "\n",
      "  -0.2674\n",
      "  -0.8065\n",
      "  -1.0087\n",
      "\n"
     ]
    }
   ],
   "source": [
    "[X] = seidinho(3, Ab, g, 0.00001, 1)\n",
    "[X] = seidinho(3, Ab, g, 0.00001, 2)\n",
    "[X] = seidinho(3, Ab, g, 0.00001, 3)\n",
    "[X] = seidinho(3, Ab, g, 0.00001, 4)\n",
    "[X] = seidinho(3, Ab, g, 0.00001, 5)"
   ]
  }
 ],
 "metadata": {
  "kernelspec": {
   "display_name": "Octave",
   "language": "octave",
   "name": "octave"
  },
  "language_info": {
   "file_extension": ".m",
   "help_links": [
    {
     "text": "GNU Octave",
     "url": "https://www.gnu.org/software/octave/support.html"
    },
    {
     "text": "Octave Kernel",
     "url": "https://github.com/Calysto/octave_kernel"
    },
    {
     "text": "MetaKernel Magics",
     "url": "https://metakernel.readthedocs.io/en/latest/source/README.html"
    }
   ],
   "mimetype": "text/x-octave",
   "name": "octave",
   "version": "6.4.0"
  },
  "orig_nbformat": 4,
  "vscode": {
   "interpreter": {
    "hash": "e7370f93d1d0cde622a1f8e1c04877d8463912d04d973331ad4851f04de6915a"
   }
  }
 },
 "nbformat": 4,
 "nbformat_minor": 2
}
